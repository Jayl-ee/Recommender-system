{
 "cells": [
  {
   "cell_type": "markdown",
   "metadata": {
    "id": "pTEwCnHwIsHr"
   },
   "source": [
    "# Install Package"
   ]
  },
  {
   "cell_type": "code",
   "execution_count": null,
   "metadata": {
    "id": "O2DUVTaQAtn_"
   },
   "outputs": [],
   "source": [
    "import os\n",
    "import matplotlib.pyplot as plt\n",
    "import seaborn as sns\n",
    "import pandas as pd\n",
    "import numpy as np\n",
    "import warnings\n",
    "warnings.filterwarnings(\"ignore\")"
   ]
  },
  {
   "cell_type": "code",
   "execution_count": null,
   "metadata": {
    "colab": {
     "base_uri": "https://localhost:8080/"
    },
    "executionInfo": {
     "elapsed": 3405,
     "status": "ok",
     "timestamp": 1631004990595,
     "user": {
      "displayName": "편시현",
      "photoUrl": "https://lh3.googleusercontent.com/a-/AOh14GjOCspVS5tAvv6o2pEAeusw04NqNstJXmFkCMg5=s64",
      "userId": "13841220538897948534"
     },
     "user_tz": -540
    },
    "id": "fpWbDnVGGtOO",
    "outputId": "3d12498c-4e46-43d9-897d-3a0d5638812c"
   },
   "outputs": [
    {
     "name": "stdout",
     "output_type": "stream",
     "text": [
      "Requirement already satisfied: surprise in /usr/local/lib/python3.7/dist-packages (0.1)\n",
      "Requirement already satisfied: scikit-surprise in /usr/local/lib/python3.7/dist-packages (from surprise) (1.1.1)\n",
      "Requirement already satisfied: joblib>=0.11 in /usr/local/lib/python3.7/dist-packages (from scikit-surprise->surprise) (1.0.1)\n",
      "Requirement already satisfied: six>=1.10.0 in /usr/local/lib/python3.7/dist-packages (from scikit-surprise->surprise) (1.15.0)\n",
      "Requirement already satisfied: scipy>=1.0.0 in /usr/local/lib/python3.7/dist-packages (from scikit-surprise->surprise) (1.4.1)\n",
      "Requirement already satisfied: numpy>=1.11.2 in /usr/local/lib/python3.7/dist-packages (from scikit-surprise->surprise) (1.19.5)\n"
     ]
    }
   ],
   "source": [
    "!pip install surprise"
   ]
  },
  {
   "cell_type": "code",
   "execution_count": null,
   "metadata": {
    "id": "tpPeZ9LGG2N6"
   },
   "outputs": [],
   "source": [
    "from surprise import SVD\n",
    "from surprise import Dataset\n",
    "from surprise import dump"
   ]
  },
  {
   "cell_type": "code",
   "execution_count": null,
   "metadata": {
    "colab": {
     "base_uri": "https://localhost:8080/"
    },
    "executionInfo": {
     "elapsed": 21,
     "status": "ok",
     "timestamp": 1631004990598,
     "user": {
      "displayName": "편시현",
      "photoUrl": "https://lh3.googleusercontent.com/a-/AOh14GjOCspVS5tAvv6o2pEAeusw04NqNstJXmFkCMg5=s64",
      "userId": "13841220538897948534"
     },
     "user_tz": -540
    },
    "id": "EwuTKfYo2seh",
    "outputId": "adeefa87-82f7-48cf-c113-9dea981d2642"
   },
   "outputs": [
    {
     "name": "stdout",
     "output_type": "stream",
     "text": [
      "Drive already mounted at /content/drive; to attempt to forcibly remount, call drive.mount(\"/content/drive\", force_remount=True).\n"
     ]
    }
   ],
   "source": [
    "from google.colab import drive\n",
    "drive.mount('/content/drive')"
   ]
  },
  {
   "cell_type": "markdown",
   "metadata": {
    "id": "Yw4cke8aF-bg"
   },
   "source": [
    "#Loading Data"
   ]
  },
  {
   "cell_type": "code",
   "execution_count": null,
   "metadata": {
    "id": "GMK6eYHxA53y"
   },
   "outputs": [],
   "source": [
    "#anime = pd.read_csv(\"/content/drive/Shareddrives/DSL_2021_2_추천시스템/animedataset/anime.csv\")\n",
    "#synopsis = pd.read_csv(\"/content/drive/Shareddrives/DSL_2021_2_추천시스템/animedataset/anime_with_synopsis.csv\")\n",
    "#animelist = pd.read_csv(\"/content/drive/Shareddrives/DSL_2021_2_추천시스템/animedataset/animelist.csv\")\n",
    "#rating_complete = pd.read_csv(\"/content/drive/Shareddrives/DSL_2021_2_추천시스템/animedataset/rating_complete.csv\")\n",
    "#watching_status = pd.read_csv(\"/content/drive/Shareddrives/DSL_2021_2_추천시스템/animedataset/watching_status.csv\")"
   ]
  },
  {
   "cell_type": "code",
   "execution_count": null,
   "metadata": {
    "id": "9yI-yQSsdN9_"
   },
   "outputs": [],
   "source": [
    "data = pd.read_csv(\"/content/drive/Shareddrives/DSL_2021_2_추천시스템/추천시스템 발표구현/Wide & Deep/anime_merge_sampling_100000.csv\")"
   ]
  },
  {
   "cell_type": "markdown",
   "metadata": {
    "id": "dX6ZR8I7d9da"
   },
   "source": [
    "* we only need User_id, Item_id, Rating in Matrix Factorization"
   ]
  },
  {
   "cell_type": "code",
   "execution_count": null,
   "metadata": {
    "id": "L7EBA89yeC5u"
   },
   "outputs": [],
   "source": [
    "cols = ['user_id','anime_id', 'rating', 'English name']\n",
    "data = data[cols]"
   ]
  },
  {
   "cell_type": "code",
   "execution_count": null,
   "metadata": {
    "id": "cXlxPg0odfrw"
   },
   "outputs": [],
   "source": [
    "#결측값 제거\n",
    "data[data=='Unknown'] = np.nan\n",
    "data.dropna(axis=0, inplace=True)"
   ]
  },
  {
   "cell_type": "code",
   "execution_count": null,
   "metadata": {
    "colab": {
     "base_uri": "https://localhost:8080/"
    },
    "executionInfo": {
     "elapsed": 10,
     "status": "ok",
     "timestamp": 1631005023136,
     "user": {
      "displayName": "편시현",
      "photoUrl": "https://lh3.googleusercontent.com/a-/AOh14GjOCspVS5tAvv6o2pEAeusw04NqNstJXmFkCMg5=s64",
      "userId": "13841220538897948534"
     },
     "user_tz": -540
    },
    "id": "GxlIK7yudwb5",
    "outputId": "ca5f5178-6a75-4115-cac1-db39c4b47d7c"
   },
   "outputs": [
    {
     "data": {
      "text/plain": [
       "(80820, 4)"
      ]
     },
     "execution_count": 9,
     "metadata": {},
     "output_type": "execute_result"
    }
   ],
   "source": [
    "data.shape"
   ]
  },
  {
   "cell_type": "code",
   "execution_count": null,
   "metadata": {
    "colab": {
     "base_uri": "https://localhost:8080/",
     "height": 203
    },
    "executionInfo": {
     "elapsed": 427,
     "status": "ok",
     "timestamp": 1631005064502,
     "user": {
      "displayName": "편시현",
      "photoUrl": "https://lh3.googleusercontent.com/a-/AOh14GjOCspVS5tAvv6o2pEAeusw04NqNstJXmFkCMg5=s64",
      "userId": "13841220538897948534"
     },
     "user_tz": -540
    },
    "id": "i6ShvHJAeiSh",
    "outputId": "a1c03365-85f3-4efa-ad97-75b0266094db"
   },
   "outputs": [
    {
     "data": {
      "text/html": [
       "<div>\n",
       "<style scoped>\n",
       "    .dataframe tbody tr th:only-of-type {\n",
       "        vertical-align: middle;\n",
       "    }\n",
       "\n",
       "    .dataframe tbody tr th {\n",
       "        vertical-align: top;\n",
       "    }\n",
       "\n",
       "    .dataframe thead th {\n",
       "        text-align: right;\n",
       "    }\n",
       "</style>\n",
       "<table border=\"1\" class=\"dataframe\">\n",
       "  <thead>\n",
       "    <tr style=\"text-align: right;\">\n",
       "      <th></th>\n",
       "      <th>user_id</th>\n",
       "      <th>anime_id</th>\n",
       "      <th>rating</th>\n",
       "      <th>English name</th>\n",
       "    </tr>\n",
       "  </thead>\n",
       "  <tbody>\n",
       "    <tr>\n",
       "      <th>0</th>\n",
       "      <td>186051</td>\n",
       "      <td>18679</td>\n",
       "      <td>7</td>\n",
       "      <td>KILL la KILL</td>\n",
       "    </tr>\n",
       "    <tr>\n",
       "      <th>1</th>\n",
       "      <td>113524</td>\n",
       "      <td>12531</td>\n",
       "      <td>9</td>\n",
       "      <td>Kids on the Slope</td>\n",
       "    </tr>\n",
       "    <tr>\n",
       "      <th>2</th>\n",
       "      <td>175828</td>\n",
       "      <td>4224</td>\n",
       "      <td>9</td>\n",
       "      <td>Toradora!</td>\n",
       "    </tr>\n",
       "    <tr>\n",
       "      <th>3</th>\n",
       "      <td>252068</td>\n",
       "      <td>30276</td>\n",
       "      <td>9</td>\n",
       "      <td>One Punch Man</td>\n",
       "    </tr>\n",
       "    <tr>\n",
       "      <th>5</th>\n",
       "      <td>142479</td>\n",
       "      <td>23079</td>\n",
       "      <td>6</td>\n",
       "      <td>Glasslip</td>\n",
       "    </tr>\n",
       "  </tbody>\n",
       "</table>\n",
       "</div>"
      ],
      "text/plain": [
       "   user_id  anime_id  rating       English name\n",
       "0   186051     18679       7       KILL la KILL\n",
       "1   113524     12531       9  Kids on the Slope\n",
       "2   175828      4224       9          Toradora!\n",
       "3   252068     30276       9      One Punch Man\n",
       "5   142479     23079       6           Glasslip"
      ]
     },
     "execution_count": 10,
     "metadata": {},
     "output_type": "execute_result"
    }
   ],
   "source": [
    "data.head()"
   ]
  },
  {
   "cell_type": "markdown",
   "metadata": {
    "id": "m9lcAJKWGCLs"
   },
   "source": [
    "#Data Preprocessing"
   ]
  },
  {
   "cell_type": "markdown",
   "metadata": {
    "id": "NzqJDKZzQGdv"
   },
   "source": [
    "* Transform into Surprise dataset"
   ]
  },
  {
   "cell_type": "code",
   "execution_count": null,
   "metadata": {
    "id": "jdih5hF8NGJ7"
   },
   "outputs": [],
   "source": [
    "from surprise import Reader\n",
    "from surprise.model_selection import train_test_split\n",
    "\n",
    "reader = Reader(rating_scale=(1,10))\n",
    "\n",
    "data = Dataset.load_from_df(data[['user_id','anime_id','rating']],\n",
    "                            reader=reader)"
   ]
  },
  {
   "cell_type": "markdown",
   "metadata": {
    "id": "u2oGdlp2Ka1o"
   },
   "source": [
    "# Training & Model "
   ]
  },
  {
   "cell_type": "markdown",
   "metadata": {
    "id": "gEccLjAPKii8"
   },
   "source": [
    "Train-test split"
   ]
  },
  {
   "cell_type": "code",
   "execution_count": null,
   "metadata": {
    "id": "rcSTMij4Kaih"
   },
   "outputs": [],
   "source": [
    "from surprise.model_selection import train_test_split\n",
    "\n",
    "train,test = train_test_split(data, test_size=0.2, random_state=0)"
   ]
  },
  {
   "cell_type": "code",
   "execution_count": null,
   "metadata": {
    "id": "1RObx35cQ49D"
   },
   "outputs": [],
   "source": [
    "from surprise import SVD\n",
    "from surprise import Dataset\n",
    "from surprise import accuracy"
   ]
  },
  {
   "cell_type": "code",
   "execution_count": null,
   "metadata": {
    "id": "bxO_zPAOVDup"
   },
   "outputs": [],
   "source": [
    "bsl_options = {'method': 'sgd',\n",
    "               'learning_rate': 0.001,\n",
    "               }"
   ]
  },
  {
   "cell_type": "code",
   "execution_count": null,
   "metadata": {
    "colab": {
     "base_uri": "https://localhost:8080/"
    },
    "executionInfo": {
     "elapsed": 16049,
     "status": "ok",
     "timestamp": 1631005426362,
     "user": {
      "displayName": "편시현",
      "photoUrl": "https://lh3.googleusercontent.com/a-/AOh14GjOCspVS5tAvv6o2pEAeusw04NqNstJXmFkCMg5=s64",
      "userId": "13841220538897948534"
     },
     "user_tz": -540
    },
    "id": "Zmg9GhCUREMt",
    "outputId": "aa47cb74-82e4-4c67-c05e-110298b0cbfd"
   },
   "outputs": [
    {
     "name": "stdout",
     "output_type": "stream",
     "text": [
      "Processing epoch 0\n",
      "Processing epoch 1\n",
      "Processing epoch 2\n",
      "Processing epoch 3\n",
      "Processing epoch 4\n",
      "Processing epoch 5\n",
      "Processing epoch 6\n",
      "Processing epoch 7\n",
      "Processing epoch 8\n",
      "Processing epoch 9\n",
      "Processing epoch 10\n",
      "Processing epoch 11\n",
      "Processing epoch 12\n",
      "Processing epoch 13\n",
      "Processing epoch 14\n",
      "Processing epoch 15\n",
      "Processing epoch 16\n",
      "Processing epoch 17\n",
      "Processing epoch 18\n",
      "Processing epoch 19\n",
      "Processing epoch 20\n",
      "Processing epoch 21\n",
      "Processing epoch 22\n",
      "Processing epoch 23\n",
      "Processing epoch 24\n",
      "Processing epoch 25\n",
      "Processing epoch 26\n",
      "Processing epoch 27\n",
      "Processing epoch 28\n",
      "Processing epoch 29\n",
      "Processing epoch 30\n",
      "Processing epoch 31\n",
      "Processing epoch 32\n",
      "Processing epoch 33\n",
      "Processing epoch 34\n",
      "Processing epoch 35\n",
      "Processing epoch 36\n",
      "Processing epoch 37\n",
      "Processing epoch 38\n",
      "Processing epoch 39\n",
      "Processing epoch 40\n",
      "Processing epoch 41\n",
      "Processing epoch 42\n",
      "Processing epoch 43\n",
      "Processing epoch 44\n",
      "Processing epoch 45\n",
      "Processing epoch 46\n",
      "Processing epoch 47\n",
      "Processing epoch 48\n",
      "Processing epoch 49\n",
      "Processing epoch 50\n",
      "Processing epoch 51\n",
      "Processing epoch 52\n",
      "Processing epoch 53\n",
      "Processing epoch 54\n",
      "Processing epoch 55\n",
      "Processing epoch 56\n",
      "Processing epoch 57\n",
      "Processing epoch 58\n",
      "Processing epoch 59\n",
      "Processing epoch 60\n",
      "Processing epoch 61\n",
      "Processing epoch 62\n",
      "Processing epoch 63\n",
      "Processing epoch 64\n",
      "Processing epoch 65\n",
      "Processing epoch 66\n",
      "Processing epoch 67\n",
      "Processing epoch 68\n",
      "Processing epoch 69\n",
      "Processing epoch 70\n",
      "Processing epoch 71\n",
      "Processing epoch 72\n",
      "Processing epoch 73\n",
      "Processing epoch 74\n",
      "Processing epoch 75\n",
      "Processing epoch 76\n",
      "Processing epoch 77\n",
      "Processing epoch 78\n",
      "Processing epoch 79\n",
      "Processing epoch 80\n",
      "Processing epoch 81\n",
      "Processing epoch 82\n",
      "Processing epoch 83\n",
      "Processing epoch 84\n",
      "Processing epoch 85\n",
      "Processing epoch 86\n",
      "Processing epoch 87\n",
      "Processing epoch 88\n",
      "Processing epoch 89\n",
      "Processing epoch 90\n",
      "Processing epoch 91\n",
      "Processing epoch 92\n",
      "Processing epoch 93\n",
      "Processing epoch 94\n",
      "Processing epoch 95\n",
      "Processing epoch 96\n",
      "Processing epoch 97\n",
      "Processing epoch 98\n",
      "Processing epoch 99\n",
      "Processing epoch 100\n",
      "Processing epoch 101\n",
      "Processing epoch 102\n",
      "Processing epoch 103\n",
      "Processing epoch 104\n",
      "Processing epoch 105\n",
      "Processing epoch 106\n",
      "Processing epoch 107\n",
      "Processing epoch 108\n",
      "Processing epoch 109\n",
      "Processing epoch 110\n",
      "Processing epoch 111\n",
      "Processing epoch 112\n",
      "Processing epoch 113\n",
      "Processing epoch 114\n",
      "Processing epoch 115\n",
      "Processing epoch 116\n",
      "Processing epoch 117\n",
      "Processing epoch 118\n",
      "Processing epoch 119\n",
      "Processing epoch 120\n",
      "Processing epoch 121\n",
      "Processing epoch 122\n",
      "Processing epoch 123\n",
      "Processing epoch 124\n",
      "Processing epoch 125\n",
      "Processing epoch 126\n",
      "Processing epoch 127\n",
      "Processing epoch 128\n",
      "Processing epoch 129\n",
      "Processing epoch 130\n",
      "Processing epoch 131\n",
      "Processing epoch 132\n",
      "Processing epoch 133\n",
      "Processing epoch 134\n",
      "Processing epoch 135\n",
      "Processing epoch 136\n",
      "Processing epoch 137\n",
      "Processing epoch 138\n",
      "Processing epoch 139\n",
      "Processing epoch 140\n",
      "Processing epoch 141\n",
      "Processing epoch 142\n",
      "Processing epoch 143\n",
      "Processing epoch 144\n",
      "Processing epoch 145\n",
      "Processing epoch 146\n",
      "Processing epoch 147\n",
      "Processing epoch 148\n",
      "Processing epoch 149\n",
      "Processing epoch 150\n",
      "Processing epoch 151\n",
      "Processing epoch 152\n",
      "Processing epoch 153\n",
      "Processing epoch 154\n",
      "Processing epoch 155\n",
      "Processing epoch 156\n",
      "Processing epoch 157\n",
      "Processing epoch 158\n",
      "Processing epoch 159\n",
      "Processing epoch 160\n",
      "Processing epoch 161\n",
      "Processing epoch 162\n",
      "Processing epoch 163\n",
      "Processing epoch 164\n",
      "Processing epoch 165\n",
      "Processing epoch 166\n",
      "Processing epoch 167\n",
      "Processing epoch 168\n",
      "Processing epoch 169\n",
      "Processing epoch 170\n",
      "Processing epoch 171\n",
      "Processing epoch 172\n",
      "Processing epoch 173\n",
      "Processing epoch 174\n",
      "Processing epoch 175\n",
      "Processing epoch 176\n",
      "Processing epoch 177\n",
      "Processing epoch 178\n",
      "Processing epoch 179\n",
      "Processing epoch 180\n",
      "Processing epoch 181\n",
      "Processing epoch 182\n",
      "Processing epoch 183\n",
      "Processing epoch 184\n",
      "Processing epoch 185\n",
      "Processing epoch 186\n",
      "Processing epoch 187\n",
      "Processing epoch 188\n",
      "Processing epoch 189\n",
      "Processing epoch 190\n",
      "Processing epoch 191\n",
      "Processing epoch 192\n",
      "Processing epoch 193\n",
      "Processing epoch 194\n",
      "Processing epoch 195\n",
      "Processing epoch 196\n",
      "Processing epoch 197\n",
      "Processing epoch 198\n",
      "Processing epoch 199\n"
     ]
    },
    {
     "data": {
      "text/plain": [
       "<surprise.prediction_algorithms.matrix_factorization.SVD at 0x7fb2791d3e90>"
      ]
     },
     "execution_count": 35,
     "metadata": {},
     "output_type": "execute_result"
    }
   ],
   "source": [
    "algo = SVD(n_factors=3, n_epochs=200, lr_all=0.001, reg_all=0.01, verbose=True) #n_factors 기존 5에서 3으로 수정\n",
    "algo.fit(train)"
   ]
  },
  {
   "cell_type": "markdown",
   "metadata": {
    "id": "gogfFK9ORKJk"
   },
   "source": [
    "# Prediction & Evaluation"
   ]
  },
  {
   "cell_type": "markdown",
   "metadata": {
    "id": "T9ahzZWHSAIu"
   },
   "source": [
    "##Prediction"
   ]
  },
  {
   "cell_type": "markdown",
   "metadata": {
    "id": "R37qWwm4SCKz"
   },
   "source": [
    "1. test()를 사용해 모든 테스트 데이터에 대한 평점 예측"
   ]
  },
  {
   "cell_type": "code",
   "execution_count": null,
   "metadata": {
    "colab": {
     "base_uri": "https://localhost:8080/"
    },
    "executionInfo": {
     "elapsed": 292,
     "status": "ok",
     "timestamp": 1631005299539,
     "user": {
      "displayName": "편시현",
      "photoUrl": "https://lh3.googleusercontent.com/a-/AOh14GjOCspVS5tAvv6o2pEAeusw04NqNstJXmFkCMg5=s64",
      "userId": "13841220538897948534"
     },
     "user_tz": -540
    },
    "id": "iLTpMCPaRHZW",
    "outputId": "84618814-0a79-4d48-8ece-a13c60c9c7a0"
   },
   "outputs": [
    {
     "name": "stdout",
     "output_type": "stream",
     "text": [
      "prediction type:  <class 'list'> size:  16164\n",
      "\n",
      "prediction 결과값 5개 미리보기\n",
      "user: 204375     item: 19489      r_ui = 9.00   est = 7.86   {'was_impossible': False}\n",
      "user: 179567     item: 2404       r_ui = 7.00   est = 7.73   {'was_impossible': False}\n",
      "user: 207311     item: 392        r_ui = 7.00   est = 8.37   {'was_impossible': False}\n",
      "user: 243635     item: 1571       r_ui = 7.00   est = 7.84   {'was_impossible': False}\n",
      "user: 107844     item: 38295      r_ui = 7.00   est = 5.73   {'was_impossible': False}\n"
     ]
    }
   ],
   "source": [
    "prediction = algo.test(test)\n",
    "print('prediction type: ', type(prediction),\n",
    "     'size: ', len(prediction))\n",
    "print()\n",
    "print('prediction 결과값 5개 미리보기')\n",
    "print(prediction[0])\n",
    "print(prediction[1])\n",
    "print(prediction[2])\n",
    "print(prediction[3])\n",
    "print(prediction[4])\n"
   ]
  },
  {
   "cell_type": "code",
   "execution_count": null,
   "metadata": {
    "colab": {
     "base_uri": "https://localhost:8080/"
    },
    "executionInfo": {
     "elapsed": 474,
     "status": "ok",
     "timestamp": 1631005448743,
     "user": {
      "displayName": "편시현",
      "photoUrl": "https://lh3.googleusercontent.com/a-/AOh14GjOCspVS5tAvv6o2pEAeusw04NqNstJXmFkCMg5=s64",
      "userId": "13841220538897948534"
     },
     "user_tz": -540
    },
    "id": "NC_zsRtZR3NN",
    "outputId": "73617eba-9262-4d6b-cd69-48aaf8be87bf"
   },
   "outputs": [
    {
     "name": "stdout",
     "output_type": "stream",
     "text": [
      "[(204375, 19489, 7.854693877431593), (179567, 2404, 7.716512676754922), (207311, 392, 8.370836695469194), (243635, 1571, 7.8407185527690455), (107844, 38295, 5.757269306714182)]\n"
     ]
    }
   ],
   "source": [
    "# user id, item id, 예측평점값들만 추출해서 하나의 튜플로 담겨있도록 하기\n",
    "result = [(pred.uid, pred.iid, pred.est) for pred in prediction[:5]]\n",
    "print(result)"
   ]
  },
  {
   "cell_type": "markdown",
   "metadata": {
    "id": "JvTKkUT7SGUQ"
   },
   "source": [
    "2. predict()를 사용해 특정한 유저의 특정 아이템에 대한 평점 예측"
   ]
  },
  {
   "cell_type": "code",
   "execution_count": null,
   "metadata": {
    "colab": {
     "base_uri": "https://localhost:8080/"
    },
    "executionInfo": {
     "elapsed": 485,
     "status": "ok",
     "timestamp": 1631005447244,
     "user": {
      "displayName": "편시현",
      "photoUrl": "https://lh3.googleusercontent.com/a-/AOh14GjOCspVS5tAvv6o2pEAeusw04NqNstJXmFkCMg5=s64",
      "userId": "13841220538897948534"
     },
     "user_tz": -540
    },
    "id": "0fryRKj8R5cG",
    "outputId": "8767ea2c-663c-4ad6-c42a-f78b25f7e27d"
   },
   "outputs": [
    {
     "name": "stdout",
     "output_type": "stream",
     "text": [
      "user: 310448     item: 6178       r_ui = None   est = 7.53   {'was_impossible': False}\n"
     ]
    }
   ],
   "source": [
    "# user id, item id는 문자열로 되어있기 때문에 문자열로 넣어주어야 함!\n",
    "uid = str(310448) #310448번 유저\n",
    "iid = str(6178) #6178번 애니메이션(test_data 상 실제 평점 7.0)\n",
    "# 변수 순서 지켜주어서 넣어주어야 함!\n",
    "pred = algo.predict(uid, iid)\n",
    "print(pred)"
   ]
  },
  {
   "cell_type": "markdown",
   "metadata": {
    "id": "nef3YAsgSmmi"
   },
   "source": [
    "## Evaluating"
   ]
  },
  {
   "cell_type": "code",
   "execution_count": null,
   "metadata": {
    "colab": {
     "base_uri": "https://localhost:8080/"
    },
    "executionInfo": {
     "elapsed": 442,
     "status": "ok",
     "timestamp": 1631005442970,
     "user": {
      "displayName": "편시현",
      "photoUrl": "https://lh3.googleusercontent.com/a-/AOh14GjOCspVS5tAvv6o2pEAeusw04NqNstJXmFkCMg5=s64",
      "userId": "13841220538897948534"
     },
     "user_tz": -540
    },
    "id": "-xZPC6j9SRoE",
    "outputId": "8eba9b01-b352-43a1-99e3-87ea1a526d13"
   },
   "outputs": [
    {
     "name": "stdout",
     "output_type": "stream",
     "text": [
      "RMSE: 1.5737\n",
      "RMSE of original model:1.5737429451464156\n"
     ]
    }
   ],
   "source": [
    "prediction = algo.test(test)\n",
    "print(\"RMSE of original model:{}\".format(accuracy.rmse(prediction)))"
   ]
  },
  {
   "cell_type": "markdown",
   "metadata": {
    "id": "Y6P3t5EzTtS5"
   },
   "source": [
    "정확도가 썩 좋아보이진 않는다."
   ]
  },
  {
   "cell_type": "markdown",
   "metadata": {
    "id": "UNeZDBg1TRzc"
   },
   "source": [
    "# Hyperparameter Tuning"
   ]
  },
  {
   "cell_type": "code",
   "execution_count": null,
   "metadata": {
    "colab": {
     "base_uri": "https://localhost:8080/"
    },
    "executionInfo": {
     "elapsed": 42396,
     "status": "ok",
     "timestamp": 1631005360100,
     "user": {
      "displayName": "편시현",
      "photoUrl": "https://lh3.googleusercontent.com/a-/AOh14GjOCspVS5tAvv6o2pEAeusw04NqNstJXmFkCMg5=s64",
      "userId": "13841220538897948534"
     },
     "user_tz": -540
    },
    "id": "Led07tIyS_3h",
    "outputId": "de4fbae5-cb5f-415f-aac3-410a0d87f5b6"
   },
   "outputs": [
    {
     "name": "stdout",
     "output_type": "stream",
     "text": [
      "1.5923545530646896\n",
      "{'n_factors': 3}\n"
     ]
    }
   ],
   "source": [
    "from surprise.model_selection import GridSearchCV\n",
    "#from scipy.stats import randint, uniform\n",
    "\n",
    "# GridSearch 할 파라미터 사전적으로 정의\n",
    "param_grid = {'n_factors':[1,2,3,4,5,6]}\n",
    "\n",
    "# GridSearchCV는 cross_validate와는 달리 인자에 알고리즘 자체를 넣어준다!\n",
    "grid = GridSearchCV(SVD, param_grid=param_grid,\n",
    "                   measures=['rmse'], cv=3,\n",
    "                    return_train_measures=True) # measure을 소문자로 해줘야함!\n",
    "\n",
    "# GridSearchCV로 데이터 학습시키기\n",
    "grid.fit(data)\n",
    "\n",
    "# 최고의 score와 그 때의 파라미터 출력\n",
    "print(grid.best_score['rmse'])\n",
    "print(grid.best_params['rmse'])\n"
   ]
  },
  {
   "cell_type": "code",
   "execution_count": null,
   "metadata": {
    "id": "2wci4wm9fhhd"
   },
   "outputs": [],
   "source": []
  }
 ],
 "metadata": {
  "colab": {
   "collapsed_sections": [],
   "name": "(데이터수정)Matrix_Factorization_using_Surprise.ipynb",
   "provenance": [
    {
     "file_id": "1h1GlmvzdjmLfb8ql6FSnFCpiEETSQy1H",
     "timestamp": 1631004560684
    },
    {
     "file_id": "1VfAB1Am1XgFPfez8qzKvFTghUgGRyfqh",
     "timestamp": 1629355132446
    }
   ]
  },
  "kernelspec": {
   "display_name": "Python 3",
   "language": "python",
   "name": "python3"
  },
  "language_info": {
   "codemirror_mode": {
    "name": "ipython",
    "version": 3
   },
   "file_extension": ".py",
   "mimetype": "text/x-python",
   "name": "python",
   "nbconvert_exporter": "python",
   "pygments_lexer": "ipython3",
   "version": "3.8.8"
  }
 },
 "nbformat": 4,
 "nbformat_minor": 1
}
