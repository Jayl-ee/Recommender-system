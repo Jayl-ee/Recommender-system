{
 "cells": [
  {
   "cell_type": "markdown",
   "metadata": {
    "id": "Kw9evIhcjWwo"
   },
   "source": [
    "# Wide input\n",
    "\n",
    "## 기존 : Type & Level\n",
    "## NEW : watching status ( watched & HAVEN't watched ) & Type\n",
    "\n",
    "- watched : IF watching status is 'Watching', 'Completed', 'On-Hold', 'Dropped'\n",
    "- ELSE : IF watching status is 'Plan to Watch'"
   ]
  },
  {
   "cell_type": "code",
   "execution_count": 2,
   "metadata": {
    "colab": {
     "base_uri": "https://localhost:8080/"
    },
    "executionInfo": {
     "elapsed": 914,
     "status": "ok",
     "timestamp": 1632291158787,
     "user": {
      "displayName": "‍김보아(학부학생/언더우드국제대학 창의기술경영)",
      "photoUrl": "https://lh3.googleusercontent.com/a/default-user=s64",
      "userId": "04274565896456384819"
     },
     "user_tz": -540
    },
    "id": "xjkfrVW6b6c3",
    "outputId": "14fde41a-59cb-491b-c3a6-6bb279c74abd"
   },
   "outputs": [
    {
     "name": "stderr",
     "output_type": "stream",
     "text": [
      "Using TensorFlow backend.\n"
     ]
    }
   ],
   "source": [
    "%tensorflow_version 1.x\n",
    "import tensorflow as tf\n",
    "import pandas as pd\n",
    "import numpy as np\n",
    "import os\n",
    "import matplotlib.pyplot as plt\n",
    "import seaborn as sns\n",
    "from sklearn.model_selection import train_test_split\n",
    "from sklearn.preprocessing import OneHotEncoder, LabelEncoder, MinMaxScaler, PolynomialFeatures, StandardScaler\n",
    "from sklearn.model_selection import train_test_split\n",
    "import keras\n",
    "from keras.layers import Input, Embedding, concatenate, Flatten, Dense, Dropout, merge, Activation\n",
    "from keras.models import Model\n",
    "from keras.layers import BatchNormalization\n",
    "from keras.layers.advanced_activations import ReLU, LeakyReLU\n",
    "from tensorflow.keras.utils import plot_model\n",
    "from tensorflow.keras.callbacks import TensorBoard, EarlyStopping, ModelCheckpoint"
   ]
  },
  {
   "cell_type": "code",
   "execution_count": 3,
   "metadata": {
    "colab": {
     "base_uri": "https://localhost:8080/"
    },
    "executionInfo": {
     "elapsed": 23296,
     "status": "ok",
     "timestamp": 1632291182079,
     "user": {
      "displayName": "‍김보아(학부학생/언더우드국제대학 창의기술경영)",
      "photoUrl": "https://lh3.googleusercontent.com/a/default-user=s64",
      "userId": "04274565896456384819"
     },
     "user_tz": -540
    },
    "id": "7v00uRoYHVUP",
    "outputId": "8e394c01-9dc4-4838-ef13-f9fa6e5b7229"
   },
   "outputs": [
    {
     "name": "stdout",
     "output_type": "stream",
     "text": [
      "Mounted at /content/drive\n"
     ]
    }
   ],
   "source": [
    "from google.colab import drive\n",
    "drive.mount('/content/drive')"
   ]
  },
  {
   "cell_type": "markdown",
   "metadata": {
    "id": "6WMa7X3-HcM3"
   },
   "source": [
    "## < 데이터 설명 >\n",
    "\n",
    "- anime : 만화에 대한 상세정보 ( 장르, 상영시기, 제작사, 등)\n",
    "- animelist : user별 평점, 시청상태, 본 회차 수\n",
    "- anime_synop : 만화 줄거리\n",
    "- rating_complete : animelist 중 모든 회차 시청 및 평점을 준 데이터"
   ]
  },
  {
   "cell_type": "markdown",
   "metadata": {
    "id": "QnkkZJ3lbyDk"
   },
   "source": [
    "## < watching status >\n",
    "- 1 : Currently Watching\n",
    "- 2 : Completed\n",
    "- 3 : On Hold\n",
    "- 4 : Dropped\n",
    "- 5 : Plan to Watch"
   ]
  },
  {
   "cell_type": "code",
   "execution_count": 4,
   "metadata": {
    "colab": {
     "base_uri": "https://localhost:8080/"
    },
    "executionInfo": {
     "elapsed": 2533,
     "status": "ok",
     "timestamp": 1632291184598,
     "user": {
      "displayName": "‍김보아(학부학생/언더우드국제대학 창의기술경영)",
      "photoUrl": "https://lh3.googleusercontent.com/a/default-user=s64",
      "userId": "04274565896456384819"
     },
     "user_tz": -540
    },
    "id": "kCUkTmVUkrw6",
    "outputId": "616952c6-d430-48a2-b6e8-19e92e9d0e30"
   },
   "outputs": [
    {
     "name": "stderr",
     "output_type": "stream",
     "text": [
      "/usr/local/lib/python3.7/dist-packages/IPython/core/interactiveshell.py:2718: DtypeWarning: Columns (31,36,37,38,40) have mixed types.Specify dtype option on import or set low_memory=False.\n",
      "  interactivity=interactivity, compiler=compiler, result=result)\n"
     ]
    }
   ],
   "source": [
    "anime_10 = pd.read_csv('/content/drive/Shareddrives/DSL_2021_2_추천시스템/추천시스템 발표구현/Wide & Deep/anime_merge_sampling_100000.csv')"
   ]
  },
  {
   "cell_type": "code",
   "execution_count": 5,
   "metadata": {
    "executionInfo": {
     "elapsed": 5,
     "status": "ok",
     "timestamp": 1632291184599,
     "user": {
      "displayName": "‍김보아(학부학생/언더우드국제대학 창의기술경영)",
      "photoUrl": "https://lh3.googleusercontent.com/a/default-user=s64",
      "userId": "04274565896456384819"
     },
     "user_tz": -540
    },
    "id": "PTvn7k4bnJun"
   },
   "outputs": [],
   "source": [
    "anime_10 = anime_10.drop(columns=['Score-10','Score-9','Score-8','Score-7','Score-6','Score-5','Score-4','Score-3','Score-2','Score-1']).sort_values(by='user_id')\n"
   ]
  },
  {
   "cell_type": "code",
   "execution_count": 6,
   "metadata": {
    "executionInfo": {
     "elapsed": 260,
     "status": "ok",
     "timestamp": 1632291184855,
     "user": {
      "displayName": "‍김보아(학부학생/언더우드국제대학 창의기술경영)",
      "photoUrl": "https://lh3.googleusercontent.com/a/default-user=s64",
      "userId": "04274565896456384819"
     },
     "user_tz": -540
    },
    "id": "67WBCTzuu44x"
   },
   "outputs": [],
   "source": [
    "anime_10['Genres'] = anime_10['Genres'].str.split(', ').str[0]"
   ]
  },
  {
   "cell_type": "code",
   "execution_count": 7,
   "metadata": {
    "executionInfo": {
     "elapsed": 6,
     "status": "ok",
     "timestamp": 1632291184856,
     "user": {
      "displayName": "‍김보아(학부학생/언더우드국제대학 창의기술경영)",
      "photoUrl": "https://lh3.googleusercontent.com/a/default-user=s64",
      "userId": "04274565896456384819"
     },
     "user_tz": -540
    },
    "id": "eLMKVcKO2QZi"
   },
   "outputs": [],
   "source": [
    "# watched_genres = anime_genres.groupby(['user_id'])['Action', 'Adventure', 'Cars', 'Comedy', 'Dementia',\n",
    "#        'Demons', 'Drama', 'Ecchi', 'Fantasy', 'Game', 'Harem', 'Hentai',\n",
    "#        'Historical', 'Horror', 'Josei', 'Kids', 'Magic', 'Martial Arts',\n",
    "#        'Mecha', 'Military', 'Music', 'Mystery', 'Parody', 'Police',\n",
    "#        'Psychological', 'Romance', 'Samurai', 'School', 'Sci-Fi', 'Seinen',\n",
    "#        'Shoujo', 'Shoujo Ai', 'Shounen', 'Shounen Ai', 'Slice of Life',\n",
    "#        'Space', 'Sports', 'Super Power', 'Supernatural', 'Thriller', 'Unknown',\n",
    "#        'Vampire', 'Yaoi', 'Yuri'].agg('sum')\n",
    "# watched_genres.shape"
   ]
  },
  {
   "cell_type": "code",
   "execution_count": 8,
   "metadata": {
    "colab": {
     "base_uri": "https://localhost:8080/",
     "height": 419
    },
    "executionInfo": {
     "elapsed": 729,
     "status": "ok",
     "timestamp": 1632291185580,
     "user": {
      "displayName": "‍김보아(학부학생/언더우드국제대학 창의기술경영)",
      "photoUrl": "https://lh3.googleusercontent.com/a/default-user=s64",
      "userId": "04274565896456384819"
     },
     "user_tz": -540
    },
    "id": "Iz4GtG7GnLzu",
    "outputId": "c42e643e-3b88-4507-9b7e-848b81b3acce"
   },
   "outputs": [
    {
     "data": {
      "text/html": [
       "<div>\n",
       "<style scoped>\n",
       "    .dataframe tbody tr th:only-of-type {\n",
       "        vertical-align: middle;\n",
       "    }\n",
       "\n",
       "    .dataframe tbody tr th {\n",
       "        vertical-align: top;\n",
       "    }\n",
       "\n",
       "    .dataframe thead th {\n",
       "        text-align: right;\n",
       "    }\n",
       "</style>\n",
       "<table border=\"1\" class=\"dataframe\">\n",
       "  <thead>\n",
       "    <tr style=\"text-align: right;\">\n",
       "      <th></th>\n",
       "      <th>user_id</th>\n",
       "      <th>avg_rating</th>\n",
       "    </tr>\n",
       "  </thead>\n",
       "  <tbody>\n",
       "    <tr>\n",
       "      <th>0</th>\n",
       "      <td>12</td>\n",
       "      <td>10.0</td>\n",
       "    </tr>\n",
       "    <tr>\n",
       "      <th>1</th>\n",
       "      <td>16</td>\n",
       "      <td>6.0</td>\n",
       "    </tr>\n",
       "    <tr>\n",
       "      <th>2</th>\n",
       "      <td>19</td>\n",
       "      <td>5.0</td>\n",
       "    </tr>\n",
       "    <tr>\n",
       "      <th>3</th>\n",
       "      <td>20</td>\n",
       "      <td>9.0</td>\n",
       "    </tr>\n",
       "    <tr>\n",
       "      <th>4</th>\n",
       "      <td>21</td>\n",
       "      <td>7.5</td>\n",
       "    </tr>\n",
       "    <tr>\n",
       "      <th>...</th>\n",
       "      <td>...</td>\n",
       "      <td>...</td>\n",
       "    </tr>\n",
       "    <tr>\n",
       "      <th>47069</th>\n",
       "      <td>353360</td>\n",
       "      <td>8.0</td>\n",
       "    </tr>\n",
       "    <tr>\n",
       "      <th>47070</th>\n",
       "      <td>353365</td>\n",
       "      <td>9.0</td>\n",
       "    </tr>\n",
       "    <tr>\n",
       "      <th>47071</th>\n",
       "      <td>353369</td>\n",
       "      <td>9.0</td>\n",
       "    </tr>\n",
       "    <tr>\n",
       "      <th>47072</th>\n",
       "      <td>353383</td>\n",
       "      <td>9.0</td>\n",
       "    </tr>\n",
       "    <tr>\n",
       "      <th>47073</th>\n",
       "      <td>353392</td>\n",
       "      <td>7.0</td>\n",
       "    </tr>\n",
       "  </tbody>\n",
       "</table>\n",
       "<p>47074 rows × 2 columns</p>\n",
       "</div>"
      ],
      "text/plain": [
       "       user_id  avg_rating\n",
       "0           12        10.0\n",
       "1           16         6.0\n",
       "2           19         5.0\n",
       "3           20         9.0\n",
       "4           21         7.5\n",
       "...        ...         ...\n",
       "47069   353360         8.0\n",
       "47070   353365         9.0\n",
       "47071   353369         9.0\n",
       "47072   353383         9.0\n",
       "47073   353392         7.0\n",
       "\n",
       "[47074 rows x 2 columns]"
      ]
     },
     "execution_count": 8,
     "metadata": {},
     "output_type": "execute_result"
    }
   ],
   "source": [
    "data = anime_10\n",
    "data[data=='Unknown'] = np.nan #Unknown값 nan으로 대체 후 dropna 실행\n",
    "data.dropna(axis=0, inplace=True) \n",
    "userrating = data.groupby([\"user_id\"])[\"rating\"].agg('mean').to_frame(name='avg_rating').reset_index()\n",
    "userrating"
   ]
  },
  {
   "cell_type": "code",
   "execution_count": 9,
   "metadata": {
    "executionInfo": {
     "elapsed": 16,
     "status": "ok",
     "timestamp": 1632291185581,
     "user": {
      "displayName": "‍김보아(학부학생/언더우드국제대학 창의기술경영)",
      "photoUrl": "https://lh3.googleusercontent.com/a/default-user=s64",
      "userId": "04274565896456384819"
     },
     "user_tz": -540
    },
    "id": "d4X-WmeHuBJc"
   },
   "outputs": [],
   "source": [
    "merged = pd.merge(data, userrating, on='user_id', sort='user_id')\n",
    "high_rating = np.where(merged[\"rating\"] >= merged[\"avg_rating\"], 1, 0)\n",
    "merged['high_rating'] = high_rating"
   ]
  },
  {
   "cell_type": "code",
   "execution_count": 10,
   "metadata": {
    "colab": {
     "base_uri": "https://localhost:8080/",
     "height": 1000
    },
    "executionInfo": {
     "elapsed": 16,
     "status": "ok",
     "timestamp": 1632291185582,
     "user": {
      "displayName": "‍김보아(학부학생/언더우드국제대학 창의기술경영)",
      "photoUrl": "https://lh3.googleusercontent.com/a/default-user=s64",
      "userId": "04274565896456384819"
     },
     "user_tz": -540
    },
    "id": "e5AoRPfimYNS",
    "outputId": "f9a23b8f-ff8c-4937-d554-2f585cb73644"
   },
   "outputs": [
    {
     "data": {
      "text/html": [
       "<div>\n",
       "<style scoped>\n",
       "    .dataframe tbody tr th:only-of-type {\n",
       "        vertical-align: middle;\n",
       "    }\n",
       "\n",
       "    .dataframe tbody tr th {\n",
       "        vertical-align: top;\n",
       "    }\n",
       "\n",
       "    .dataframe thead th {\n",
       "        text-align: right;\n",
       "    }\n",
       "</style>\n",
       "<table border=\"1\" class=\"dataframe\">\n",
       "  <thead>\n",
       "    <tr style=\"text-align: right;\">\n",
       "      <th></th>\n",
       "      <th>Unnamed: 0</th>\n",
       "      <th>user_id</th>\n",
       "      <th>anime_id</th>\n",
       "      <th>rating</th>\n",
       "      <th>watching_status</th>\n",
       "      <th>MAL_ID</th>\n",
       "      <th>Name</th>\n",
       "      <th>Score</th>\n",
       "      <th>Genres</th>\n",
       "      <th>English name</th>\n",
       "      <th>Japanese name</th>\n",
       "      <th>Type</th>\n",
       "      <th>Episodes</th>\n",
       "      <th>Aired</th>\n",
       "      <th>Premiered</th>\n",
       "      <th>Producers</th>\n",
       "      <th>Licensors</th>\n",
       "      <th>Studios</th>\n",
       "      <th>Source</th>\n",
       "      <th>Duration</th>\n",
       "      <th>Rating</th>\n",
       "      <th>Ranked</th>\n",
       "      <th>Popularity</th>\n",
       "      <th>Members</th>\n",
       "      <th>Favorites</th>\n",
       "      <th>Watching</th>\n",
       "      <th>Completed</th>\n",
       "      <th>On-Hold</th>\n",
       "      <th>Dropped</th>\n",
       "      <th>Plan to Watch</th>\n",
       "      <th>avg_rating</th>\n",
       "      <th>high_rating</th>\n",
       "      <th>watch_rate</th>\n",
       "      <th>watched_30</th>\n",
       "    </tr>\n",
       "  </thead>\n",
       "  <tbody>\n",
       "    <tr>\n",
       "      <th>0</th>\n",
       "      <td>1343</td>\n",
       "      <td>12</td>\n",
       "      <td>28121</td>\n",
       "      <td>10</td>\n",
       "      <td>2</td>\n",
       "      <td>28121</td>\n",
       "      <td>Dungeon ni Deai wo Motomeru no wa Machigatteir...</td>\n",
       "      <td>7.64</td>\n",
       "      <td>Action</td>\n",
       "      <td>Is It Wrong to Try to Pick Up Girls in a Dungeon?</td>\n",
       "      <td>ダンジョンに出会いを求めるのは間違っているだろうか</td>\n",
       "      <td>TV</td>\n",
       "      <td>13</td>\n",
       "      <td>Apr 4, 2015 to Jun 27, 2015</td>\n",
       "      <td>Spring 2015</td>\n",
       "      <td>Genco, Movic, Warner Bros. Japan, KlockWorx, S...</td>\n",
       "      <td>Sentai Filmworks</td>\n",
       "      <td>J.C.Staff</td>\n",
       "      <td>Light novel</td>\n",
       "      <td>24 min. per ep.</td>\n",
       "      <td>PG-13 - Teens 13 or older</td>\n",
       "      <td>1172.0</td>\n",
       "      <td>60</td>\n",
       "      <td>1075095</td>\n",
       "      <td>10275</td>\n",
       "      <td>41249</td>\n",
       "      <td>870168</td>\n",
       "      <td>14498</td>\n",
       "      <td>22709</td>\n",
       "      <td>126471</td>\n",
       "      <td>10.0</td>\n",
       "      <td>1</td>\n",
       "      <td>1.000000</td>\n",
       "      <td>1</td>\n",
       "    </tr>\n",
       "    <tr>\n",
       "      <th>1</th>\n",
       "      <td>1722</td>\n",
       "      <td>16</td>\n",
       "      <td>2993</td>\n",
       "      <td>6</td>\n",
       "      <td>2</td>\n",
       "      <td>2993</td>\n",
       "      <td>Rosario to Vampire</td>\n",
       "      <td>6.84</td>\n",
       "      <td>Harem</td>\n",
       "      <td>Rosario + Vampire</td>\n",
       "      <td>ロザリオとバンパイア</td>\n",
       "      <td>TV</td>\n",
       "      <td>13</td>\n",
       "      <td>Jan 3, 2008 to Mar 27, 2008</td>\n",
       "      <td>Winter 2008</td>\n",
       "      <td>GDH, Yomiko Advertising, Happinet Pictures, At...</td>\n",
       "      <td>Funimation</td>\n",
       "      <td>Gonzo</td>\n",
       "      <td>Manga</td>\n",
       "      <td>25 min. per ep.</td>\n",
       "      <td>R+ - Mild Nudity</td>\n",
       "      <td>4285.0</td>\n",
       "      <td>208</td>\n",
       "      <td>545750</td>\n",
       "      <td>3794</td>\n",
       "      <td>17783</td>\n",
       "      <td>423659</td>\n",
       "      <td>11157</td>\n",
       "      <td>24451</td>\n",
       "      <td>68700</td>\n",
       "      <td>6.0</td>\n",
       "      <td>1</td>\n",
       "      <td>1.000000</td>\n",
       "      <td>1</td>\n",
       "    </tr>\n",
       "    <tr>\n",
       "      <th>2</th>\n",
       "      <td>3285</td>\n",
       "      <td>19</td>\n",
       "      <td>15699</td>\n",
       "      <td>5</td>\n",
       "      <td>4</td>\n",
       "      <td>15699</td>\n",
       "      <td>Haiyore! Nyaruko-san W</td>\n",
       "      <td>7.28</td>\n",
       "      <td>Sci-Fi</td>\n",
       "      <td>Nyaruko:Crawling With Love! Second Season</td>\n",
       "      <td>這いよれ！ニャル子さん W</td>\n",
       "      <td>TV</td>\n",
       "      <td>12</td>\n",
       "      <td>Apr 8, 2013 to Jul 1, 2013</td>\n",
       "      <td>Spring 2013</td>\n",
       "      <td>Avex Entertainment, Sotsu, DIVE II Entertainment</td>\n",
       "      <td>NIS America, Inc.</td>\n",
       "      <td>Xebec</td>\n",
       "      <td>Light novel</td>\n",
       "      <td>24 min. per ep.</td>\n",
       "      <td>PG-13 - Teens 13 or older</td>\n",
       "      <td>2442.0</td>\n",
       "      <td>1010</td>\n",
       "      <td>147938</td>\n",
       "      <td>307</td>\n",
       "      <td>5869</td>\n",
       "      <td>104404</td>\n",
       "      <td>3528</td>\n",
       "      <td>3520</td>\n",
       "      <td>30617</td>\n",
       "      <td>5.0</td>\n",
       "      <td>1</td>\n",
       "      <td>0.083333</td>\n",
       "      <td>0</td>\n",
       "    </tr>\n",
       "    <tr>\n",
       "      <th>3</th>\n",
       "      <td>3440</td>\n",
       "      <td>20</td>\n",
       "      <td>39597</td>\n",
       "      <td>9</td>\n",
       "      <td>2</td>\n",
       "      <td>39597</td>\n",
       "      <td>Sword Art Online: Alicization - War of Underworld</td>\n",
       "      <td>7.63</td>\n",
       "      <td>Action</td>\n",
       "      <td>Sword Art Online Alicization War of Underworld</td>\n",
       "      <td>ソードアート・オンライン アリシゼーション War of Underworld</td>\n",
       "      <td>TV</td>\n",
       "      <td>12</td>\n",
       "      <td>Oct 13, 2019 to Dec 29, 2019</td>\n",
       "      <td>Fall 2019</td>\n",
       "      <td>Aniplex, Bandai Namco Entertainment, Egg Firm,...</td>\n",
       "      <td>Aniplex of America</td>\n",
       "      <td>A-1 Pictures</td>\n",
       "      <td>Light novel</td>\n",
       "      <td>23 min. per ep.</td>\n",
       "      <td>R - 17+ (violence &amp; profanity)</td>\n",
       "      <td>1204.0</td>\n",
       "      <td>308</td>\n",
       "      <td>428786</td>\n",
       "      <td>4366</td>\n",
       "      <td>32060</td>\n",
       "      <td>310819</td>\n",
       "      <td>5416</td>\n",
       "      <td>5120</td>\n",
       "      <td>75371</td>\n",
       "      <td>9.0</td>\n",
       "      <td>1</td>\n",
       "      <td>1.000000</td>\n",
       "      <td>1</td>\n",
       "    </tr>\n",
       "    <tr>\n",
       "      <th>4</th>\n",
       "      <td>3783</td>\n",
       "      <td>21</td>\n",
       "      <td>1557</td>\n",
       "      <td>8</td>\n",
       "      <td>2</td>\n",
       "      <td>1557</td>\n",
       "      <td>Shounen Onmyouji</td>\n",
       "      <td>7.59</td>\n",
       "      <td>Action</td>\n",
       "      <td>Shonen Onmyoji</td>\n",
       "      <td>少年陰陽師</td>\n",
       "      <td>TV</td>\n",
       "      <td>26</td>\n",
       "      <td>Oct 3, 2006 to Mar 13, 2007</td>\n",
       "      <td>Fall 2006</td>\n",
       "      <td>Sotsu, Marine Entertainment</td>\n",
       "      <td>Funimation, Geneon Entertainment USA</td>\n",
       "      <td>Studio Deen</td>\n",
       "      <td>Light novel</td>\n",
       "      <td>23 min. per ep.</td>\n",
       "      <td>PG-13 - Teens 13 or older</td>\n",
       "      <td>1298.0</td>\n",
       "      <td>2293</td>\n",
       "      <td>48538</td>\n",
       "      <td>307</td>\n",
       "      <td>3025</td>\n",
       "      <td>22739</td>\n",
       "      <td>2497</td>\n",
       "      <td>2264</td>\n",
       "      <td>18013</td>\n",
       "      <td>7.5</td>\n",
       "      <td>1</td>\n",
       "      <td>1.000000</td>\n",
       "      <td>1</td>\n",
       "    </tr>\n",
       "    <tr>\n",
       "      <th>...</th>\n",
       "      <td>...</td>\n",
       "      <td>...</td>\n",
       "      <td>...</td>\n",
       "      <td>...</td>\n",
       "      <td>...</td>\n",
       "      <td>...</td>\n",
       "      <td>...</td>\n",
       "      <td>...</td>\n",
       "      <td>...</td>\n",
       "      <td>...</td>\n",
       "      <td>...</td>\n",
       "      <td>...</td>\n",
       "      <td>...</td>\n",
       "      <td>...</td>\n",
       "      <td>...</td>\n",
       "      <td>...</td>\n",
       "      <td>...</td>\n",
       "      <td>...</td>\n",
       "      <td>...</td>\n",
       "      <td>...</td>\n",
       "      <td>...</td>\n",
       "      <td>...</td>\n",
       "      <td>...</td>\n",
       "      <td>...</td>\n",
       "      <td>...</td>\n",
       "      <td>...</td>\n",
       "      <td>...</td>\n",
       "      <td>...</td>\n",
       "      <td>...</td>\n",
       "      <td>...</td>\n",
       "      <td>...</td>\n",
       "      <td>...</td>\n",
       "      <td>...</td>\n",
       "      <td>...</td>\n",
       "    </tr>\n",
       "    <tr>\n",
       "      <th>55886</th>\n",
       "      <td>62392029</td>\n",
       "      <td>353365</td>\n",
       "      <td>23233</td>\n",
       "      <td>9</td>\n",
       "      <td>2</td>\n",
       "      <td>23233</td>\n",
       "      <td>Shinmai Maou no Testament</td>\n",
       "      <td>6.8</td>\n",
       "      <td>Action</td>\n",
       "      <td>The Testament of Sister New Devil</td>\n",
       "      <td>新妹魔王の契約者〈テスタメント〉</td>\n",
       "      <td>TV</td>\n",
       "      <td>12</td>\n",
       "      <td>Jan 8, 2015 to Mar 26, 2015</td>\n",
       "      <td>Winter 2015</td>\n",
       "      <td>Kadokawa Shoten, AT-X, Nippon Columbia, Kadoka...</td>\n",
       "      <td>Funimation, Crunchyroll</td>\n",
       "      <td>Production IMS</td>\n",
       "      <td>Light novel</td>\n",
       "      <td>23 min. per ep.</td>\n",
       "      <td>R+ - Mild Nudity</td>\n",
       "      <td>4428.0</td>\n",
       "      <td>261</td>\n",
       "      <td>476324</td>\n",
       "      <td>1660</td>\n",
       "      <td>24554</td>\n",
       "      <td>347969</td>\n",
       "      <td>10319</td>\n",
       "      <td>20676</td>\n",
       "      <td>72806</td>\n",
       "      <td>9.0</td>\n",
       "      <td>1</td>\n",
       "      <td>1.000000</td>\n",
       "      <td>1</td>\n",
       "    </tr>\n",
       "    <tr>\n",
       "      <th>55887</th>\n",
       "      <td>62392756</td>\n",
       "      <td>353369</td>\n",
       "      <td>32949</td>\n",
       "      <td>9</td>\n",
       "      <td>2</td>\n",
       "      <td>32949</td>\n",
       "      <td>Kuzu no Honkai</td>\n",
       "      <td>7.31</td>\n",
       "      <td>Drama</td>\n",
       "      <td>Scum's Wish</td>\n",
       "      <td>クズの本懐</td>\n",
       "      <td>TV</td>\n",
       "      <td>12</td>\n",
       "      <td>Jan 13, 2017 to Mar 31, 2017</td>\n",
       "      <td>Winter 2017</td>\n",
       "      <td>Aniplex, Dentsu, Square Enix, Studio Hibari, F...</td>\n",
       "      <td>Sentai Filmworks</td>\n",
       "      <td>Lerche</td>\n",
       "      <td>Manga</td>\n",
       "      <td>22 min. per ep.</td>\n",
       "      <td>R+ - Mild Nudity</td>\n",
       "      <td>2294.0</td>\n",
       "      <td>272</td>\n",
       "      <td>462466</td>\n",
       "      <td>4913</td>\n",
       "      <td>33590</td>\n",
       "      <td>264613</td>\n",
       "      <td>13307</td>\n",
       "      <td>24148</td>\n",
       "      <td>126808</td>\n",
       "      <td>9.0</td>\n",
       "      <td>1</td>\n",
       "      <td>1.000000</td>\n",
       "      <td>1</td>\n",
       "    </tr>\n",
       "    <tr>\n",
       "      <th>55888</th>\n",
       "      <td>62392696</td>\n",
       "      <td>353369</td>\n",
       "      <td>17895</td>\n",
       "      <td>9</td>\n",
       "      <td>2</td>\n",
       "      <td>17895</td>\n",
       "      <td>Golden Time</td>\n",
       "      <td>7.78</td>\n",
       "      <td>Comedy</td>\n",
       "      <td>Golden Time</td>\n",
       "      <td>ゴールデンタイム</td>\n",
       "      <td>TV</td>\n",
       "      <td>24</td>\n",
       "      <td>Oct 4, 2013 to Mar 28, 2014</td>\n",
       "      <td>Fall 2013</td>\n",
       "      <td>Genco, Starchild Records</td>\n",
       "      <td>Sentai Filmworks</td>\n",
       "      <td>J.C.Staff</td>\n",
       "      <td>Light novel</td>\n",
       "      <td>24 min. per ep.</td>\n",
       "      <td>PG-13 - Teens 13 or older</td>\n",
       "      <td>855.0</td>\n",
       "      <td>138</td>\n",
       "      <td>688649</td>\n",
       "      <td>9875</td>\n",
       "      <td>39602</td>\n",
       "      <td>442612</td>\n",
       "      <td>25435</td>\n",
       "      <td>30567</td>\n",
       "      <td>150433</td>\n",
       "      <td>9.0</td>\n",
       "      <td>1</td>\n",
       "      <td>1.000000</td>\n",
       "      <td>1</td>\n",
       "    </tr>\n",
       "    <tr>\n",
       "      <th>55889</th>\n",
       "      <td>62394165</td>\n",
       "      <td>353383</td>\n",
       "      <td>6114</td>\n",
       "      <td>9</td>\n",
       "      <td>2</td>\n",
       "      <td>6114</td>\n",
       "      <td>Rainbow: Nisha Rokubou no Shichinin</td>\n",
       "      <td>8.52</td>\n",
       "      <td>Drama</td>\n",
       "      <td>Rainbow</td>\n",
       "      <td>RAINBOW 二舎六房の七人</td>\n",
       "      <td>TV</td>\n",
       "      <td>26</td>\n",
       "      <td>Apr 7, 2010 to Sep 29, 2010</td>\n",
       "      <td>Spring 2010</td>\n",
       "      <td>VAP, Nippon Television Network</td>\n",
       "      <td>Funimation</td>\n",
       "      <td>Madhouse</td>\n",
       "      <td>Manga</td>\n",
       "      <td>22 min. per ep.</td>\n",
       "      <td>R - 17+ (violence &amp; profanity)</td>\n",
       "      <td>94.0</td>\n",
       "      <td>466</td>\n",
       "      <td>304557</td>\n",
       "      <td>7421</td>\n",
       "      <td>20996</td>\n",
       "      <td>135582</td>\n",
       "      <td>16102</td>\n",
       "      <td>12168</td>\n",
       "      <td>119709</td>\n",
       "      <td>9.0</td>\n",
       "      <td>1</td>\n",
       "      <td>1.000000</td>\n",
       "      <td>1</td>\n",
       "    </tr>\n",
       "    <tr>\n",
       "      <th>55890</th>\n",
       "      <td>62395596</td>\n",
       "      <td>353392</td>\n",
       "      <td>39026</td>\n",
       "      <td>7</td>\n",
       "      <td>2</td>\n",
       "      <td>39026</td>\n",
       "      <td>Dumbbell Nan Kilo Moteru?</td>\n",
       "      <td>7.36</td>\n",
       "      <td>Comedy</td>\n",
       "      <td>How heavy are the dumbbells you lift?</td>\n",
       "      <td>ダンベル何キロ持てる？</td>\n",
       "      <td>TV</td>\n",
       "      <td>12</td>\n",
       "      <td>Jul 3, 2019 to Sep 18, 2019</td>\n",
       "      <td>Summer 2019</td>\n",
       "      <td>AT-X, Shogakukan, Kadokawa Media House, RAY, N...</td>\n",
       "      <td>Funimation</td>\n",
       "      <td>Doga Kobo</td>\n",
       "      <td>Web manga</td>\n",
       "      <td>24 min. per ep.</td>\n",
       "      <td>PG-13 - Teens 13 or older</td>\n",
       "      <td>2060.0</td>\n",
       "      <td>619</td>\n",
       "      <td>236040</td>\n",
       "      <td>842</td>\n",
       "      <td>30925</td>\n",
       "      <td>120773</td>\n",
       "      <td>11651</td>\n",
       "      <td>14640</td>\n",
       "      <td>58051</td>\n",
       "      <td>7.0</td>\n",
       "      <td>1</td>\n",
       "      <td>1.000000</td>\n",
       "      <td>1</td>\n",
       "    </tr>\n",
       "  </tbody>\n",
       "</table>\n",
       "<p>55891 rows × 34 columns</p>\n",
       "</div>"
      ],
      "text/plain": [
       "       Unnamed: 0  user_id  anime_id  ...  high_rating  watch_rate  watched_30\n",
       "0            1343       12     28121  ...            1    1.000000           1\n",
       "1            1722       16      2993  ...            1    1.000000           1\n",
       "2            3285       19     15699  ...            1    0.083333           0\n",
       "3            3440       20     39597  ...            1    1.000000           1\n",
       "4            3783       21      1557  ...            1    1.000000           1\n",
       "...           ...      ...       ...  ...          ...         ...         ...\n",
       "55886    62392029   353365     23233  ...            1    1.000000           1\n",
       "55887    62392756   353369     32949  ...            1    1.000000           1\n",
       "55888    62392696   353369     17895  ...            1    1.000000           1\n",
       "55889    62394165   353383      6114  ...            1    1.000000           1\n",
       "55890    62395596   353392     39026  ...            1    1.000000           1\n",
       "\n",
       "[55891 rows x 34 columns]"
      ]
     },
     "execution_count": 10,
     "metadata": {},
     "output_type": "execute_result"
    }
   ],
   "source": [
    "merged['Episodes'] = merged['Episodes'].astype('int64') \n",
    "\n",
    "# 시청진행율 추가 및 'watched_episode제거\n",
    "merged['watch_rate'] = merged['watched_episodes'] / merged['Episodes']\n",
    "watched_30 = np.where(merged[\"watch_rate\"]>= 0.3, 1,0)\n",
    "merged['watched_30'] = watched_30\n",
    "merged.drop('watched_episodes', axis=1, inplace=True)\n",
    "merged"
   ]
  },
  {
   "cell_type": "code",
   "execution_count": 11,
   "metadata": {
    "executionInfo": {
     "elapsed": 14,
     "status": "ok",
     "timestamp": 1632291185583,
     "user": {
      "displayName": "‍김보아(학부학생/언더우드국제대학 창의기술경영)",
      "photoUrl": "https://lh3.googleusercontent.com/a/default-user=s64",
      "userId": "04274565896456384819"
     },
     "user_tz": -540
    },
    "id": "WqYKnnu_Qh19"
   },
   "outputs": [],
   "source": [
    "merged['Aired'] = merged['Aired'].str.extract('(\\d\\d\\d\\d)')\n",
    "merged['Aired'] = merged['Aired'].apply(lambda x: x[:3] + '0')\n",
    "merged.rename(columns={'Rating':'Level'}, inplace=True)"
   ]
  },
  {
   "cell_type": "code",
   "execution_count": 12,
   "metadata": {
    "executionInfo": {
     "elapsed": 14,
     "status": "ok",
     "timestamp": 1632291185583,
     "user": {
      "displayName": "‍김보아(학부학생/언더우드국제대학 창의기술경영)",
      "photoUrl": "https://lh3.googleusercontent.com/a/default-user=s64",
      "userId": "04274565896456384819"
     },
     "user_tz": -540
    },
    "id": "fyA-EZ3sZTKD"
   },
   "outputs": [],
   "source": [
    "# merged.Score = merged.Score.astype(int)"
   ]
  },
  {
   "cell_type": "code",
   "execution_count": 13,
   "metadata": {
    "executionInfo": {
     "elapsed": 14,
     "status": "ok",
     "timestamp": 1632291185584,
     "user": {
      "displayName": "‍김보아(학부학생/언더우드국제대학 창의기술경영)",
      "photoUrl": "https://lh3.googleusercontent.com/a/default-user=s64",
      "userId": "04274565896456384819"
     },
     "user_tz": -540
    },
    "id": "5GDcoc9Lao_d"
   },
   "outputs": [],
   "source": [
    "# CATEGORICAL : watching status -> int type --> ERROR\n",
    "merged['watching_status'] = merged['watching_status'].astype(str)\n",
    "# y_label -1\n",
    "merged['rating'] = merged['rating'] - 1\n"
   ]
  },
  {
   "cell_type": "code",
   "execution_count": 14,
   "metadata": {
    "colab": {
     "base_uri": "https://localhost:8080/"
    },
    "executionInfo": {
     "elapsed": 838,
     "status": "ok",
     "timestamp": 1632291186410,
     "user": {
      "displayName": "‍김보아(학부학생/언더우드국제대학 창의기술경영)",
      "photoUrl": "https://lh3.googleusercontent.com/a/default-user=s64",
      "userId": "04274565896456384819"
     },
     "user_tz": -540
    },
    "id": "ZjWSmg0SXYwh",
    "outputId": "6601fc50-0afe-4b8e-edac-063bda7917c3"
   },
   "outputs": [
    {
     "name": "stdout",
     "output_type": "stream",
     "text": [
      "<class 'pandas.core.frame.DataFrame'>\n",
      "Int64Index: 55891 entries, 0 to 55890\n",
      "Data columns (total 34 columns):\n",
      " #   Column           Non-Null Count  Dtype  \n",
      "---  ------           --------------  -----  \n",
      " 0   Unnamed: 0       55891 non-null  int64  \n",
      " 1   user_id          55891 non-null  int64  \n",
      " 2   anime_id         55891 non-null  int64  \n",
      " 3   rating           55891 non-null  int64  \n",
      " 4   watching_status  55891 non-null  object \n",
      " 5   MAL_ID           55891 non-null  int64  \n",
      " 6   Name             55891 non-null  object \n",
      " 7   Score            55891 non-null  object \n",
      " 8   Genres           55891 non-null  object \n",
      " 9   English name     55891 non-null  object \n",
      " 10  Japanese name    55891 non-null  object \n",
      " 11  Type             55891 non-null  object \n",
      " 12  Episodes         55891 non-null  int64  \n",
      " 13  Aired            55891 non-null  object \n",
      " 14  Premiered        55891 non-null  object \n",
      " 15  Producers        55891 non-null  object \n",
      " 16  Licensors        55891 non-null  object \n",
      " 17  Studios          55891 non-null  object \n",
      " 18  Source           55891 non-null  object \n",
      " 19  Duration         55891 non-null  object \n",
      " 20  Level            55891 non-null  object \n",
      " 21  Ranked           55891 non-null  object \n",
      " 22  Popularity       55891 non-null  int64  \n",
      " 23  Members          55891 non-null  int64  \n",
      " 24  Favorites        55891 non-null  int64  \n",
      " 25  Watching         55891 non-null  int64  \n",
      " 26  Completed        55891 non-null  int64  \n",
      " 27  On-Hold          55891 non-null  int64  \n",
      " 28  Dropped          55891 non-null  int64  \n",
      " 29  Plan to Watch    55891 non-null  int64  \n",
      " 30  avg_rating       55891 non-null  float64\n",
      " 31  high_rating      55891 non-null  int64  \n",
      " 32  watch_rate       55891 non-null  float64\n",
      " 33  watched_30       55891 non-null  int64  \n",
      "dtypes: float64(2), int64(16), object(16)\n",
      "memory usage: 14.9+ MB\n"
     ]
    }
   ],
   "source": [
    "merged.info()"
   ]
  },
  {
   "cell_type": "code",
   "execution_count": 15,
   "metadata": {
    "colab": {
     "base_uri": "https://localhost:8080/"
    },
    "executionInfo": {
     "elapsed": 1083,
     "status": "ok",
     "timestamp": 1632291187486,
     "user": {
      "displayName": "‍김보아(학부학생/언더우드국제대학 창의기술경영)",
      "photoUrl": "https://lh3.googleusercontent.com/a/default-user=s64",
      "userId": "04274565896456384819"
     },
     "user_tz": -540
    },
    "id": "Smr2fSBUMxHL",
    "outputId": "6ef990f1-abbd-4ff4-c507-e035fc1b9887"
   },
   "outputs": [
    {
     "name": "stdout",
     "output_type": "stream",
     "text": [
      "WARNING:tensorflow:\n",
      "The TensorFlow contrib module will not be included in TensorFlow 2.0.\n",
      "For more information, please see:\n",
      "  * https://github.com/tensorflow/community/blob/master/rfcs/20180907-contrib-sunset.md\n",
      "  * https://github.com/tensorflow/addons\n",
      "  * https://github.com/tensorflow/io (for I/O related ops)\n",
      "If you depend on functionality not listed there, please file an issue.\n",
      "\n"
     ]
    }
   ],
   "source": [
    "#Categorical base columns\n",
    "genres = tf.contrib.layers.sparse_column_with_keys(column_name=\"Genres\", keys=['Action', 'Adventure', 'Cars', 'Comedy', 'Dementia',\n",
    "       'Demons', 'Drama', 'Ecchi', 'Fantasy', 'Game', 'Harem', 'Hentai',\n",
    "       'Historical', 'Horror', 'Josei', 'Kids', 'Magic', 'Martial Arts',\n",
    "       'Mecha', 'Military', 'Music', 'Mystery', 'Parody', 'Police',\n",
    "       'Psychological', 'Romance', 'Samurai', 'School', 'Sci-Fi', 'Seinen',\n",
    "       'Shoujo', 'Shoujo Ai', 'Shounen', 'Shounen Ai', 'Slice of Life',\n",
    "       'Space', 'Sports', 'Super Power', 'Supernatural', 'Thriller', 'Unknown',\n",
    "       'Vampire', 'Yaoi', 'Yuri'])\n",
    "watching_status = tf.contrib.layers.sparse_column_with_keys(column_name=\"watching_status\", keys=['0','1','2','3','4','5'])\n",
    "level = tf.contrib.layers.sparse_column_with_keys(column_name=\"Level\", keys=['All ages','Children','PG13','R-17','Nudity','Hentai'])\n",
    "aired = tf.contrib.layers.sparse_column_with_keys(column_name=\"Aired\", keys=['2010', '2000', '2020', '1980', '1990', '1970', '1960'])\n",
    "studios = tf.contrib.layers.sparse_column_with_hash_bucket(\"Studios\", hash_bucket_size=50)\n",
    "source = tf.contrib.layers.sparse_column_with_keys(column_name='Source', keys=['Light novel', 'Manga', 'Game', '4-koma manga', 'Web manga',\n",
    "       'Other', 'Original', 'Visual novel', 'Novel', 'Book', 'Card game',\n",
    "       'Music', 'Digital manga'])\n",
    "\n",
    "# Continuous base columns.\n",
    "episodes = tf.contrib.layers.real_valued_column(\"Episodes\")\n",
    "watch_rate = tf.contrib.layers.real_valued_column(\"watch_rate\")\n"
   ]
  },
  {
   "cell_type": "code",
   "execution_count": 16,
   "metadata": {
    "executionInfo": {
     "elapsed": 13,
     "status": "ok",
     "timestamp": 1632291187487,
     "user": {
      "displayName": "‍김보아(학부학생/언더우드국제대학 창의기술경영)",
      "photoUrl": "https://lh3.googleusercontent.com/a/default-user=s64",
      "userId": "04274565896456384819"
     },
     "user_tz": -540
    },
    "id": "ozX_0IkQOzS8"
   },
   "outputs": [],
   "source": [
    "wide_columns = [\n",
    "  genres, studios, aired, source,\n",
    "  tf.contrib.layers.crossed_column([genres, watching_status], hash_bucket_size=int(1e4))]"
   ]
  },
  {
   "cell_type": "code",
   "execution_count": 17,
   "metadata": {
    "colab": {
     "base_uri": "https://localhost:8080/"
    },
    "executionInfo": {
     "elapsed": 13,
     "status": "ok",
     "timestamp": 1632291187488,
     "user": {
      "displayName": "‍김보아(학부학생/언더우드국제대학 창의기술경영)",
      "photoUrl": "https://lh3.googleusercontent.com/a/default-user=s64",
      "userId": "04274565896456384819"
     },
     "user_tz": -540
    },
    "id": "OZXbN96gPp9K",
    "outputId": "82f4337d-a969-4e8a-bc52-bfa49720afe5"
   },
   "outputs": [
    {
     "name": "stdout",
     "output_type": "stream",
     "text": [
      "WARNING:tensorflow:The default stddev value of initializer was changed from \"1/sqrt(vocab_size)\" to \"1/sqrt(dimension)\" in core implementation (tf.feature_column.embedding_column).\n",
      "WARNING:tensorflow:The default stddev value of initializer was changed from \"1/sqrt(vocab_size)\" to \"1/sqrt(dimension)\" in core implementation (tf.feature_column.embedding_column).\n",
      "WARNING:tensorflow:The default stddev value of initializer was changed from \"1/sqrt(vocab_size)\" to \"1/sqrt(dimension)\" in core implementation (tf.feature_column.embedding_column).\n",
      "WARNING:tensorflow:The default stddev value of initializer was changed from \"1/sqrt(vocab_size)\" to \"1/sqrt(dimension)\" in core implementation (tf.feature_column.embedding_column).\n",
      "WARNING:tensorflow:The default stddev value of initializer was changed from \"1/sqrt(vocab_size)\" to \"1/sqrt(dimension)\" in core implementation (tf.feature_column.embedding_column).\n",
      "WARNING:tensorflow:The default stddev value of initializer was changed from \"1/sqrt(vocab_size)\" to \"1/sqrt(dimension)\" in core implementation (tf.feature_column.embedding_column).\n"
     ]
    }
   ],
   "source": [
    "deep_columns = [\n",
    "  tf.contrib.layers.embedding_column(genres, dimension=8),\n",
    "  tf.contrib.layers.embedding_column(watching_status, dimension=8),\n",
    "  tf.contrib.layers.embedding_column(level, dimension=8),\n",
    "  tf.contrib.layers.embedding_column(aired, dimension=8),\n",
    "  tf.contrib.layers.embedding_column(studios, dimension=8),\n",
    "  tf.contrib.layers.embedding_column(source, dimension=8),\n",
    "  episodes, watch_rate]"
   ]
  },
  {
   "cell_type": "code",
   "execution_count": 30,
   "metadata": {
    "colab": {
     "base_uri": "https://localhost:8080/"
    },
    "executionInfo": {
     "elapsed": 252,
     "status": "ok",
     "timestamp": 1632291956473,
     "user": {
      "displayName": "‍김보아(학부학생/언더우드국제대학 창의기술경영)",
      "photoUrl": "https://lh3.googleusercontent.com/a/default-user=s64",
      "userId": "04274565896456384819"
     },
     "user_tz": -540
    },
    "id": "F8QSFkQ_QBxq",
    "outputId": "454d56ae-fdc2-441f-c656-19da6670eec4"
   },
   "outputs": [
    {
     "name": "stdout",
     "output_type": "stream",
     "text": [
      "INFO:tensorflow:Using default config.\n",
      "WARNING:tensorflow:Using temporary folder as model directory: /tmp/tmp8_qw4tqe\n",
      "INFO:tensorflow:Using config: {'_task_type': None, '_task_id': 0, '_cluster_spec': <tensorflow.python.training.server_lib.ClusterSpec object at 0x7fa1f548ee50>, '_master': '', '_num_ps_replicas': 0, '_num_worker_replicas': 0, '_environment': 'local', '_is_chief': True, '_evaluation_master': '', '_train_distribute': None, '_eval_distribute': None, '_experimental_max_worker_delay_secs': None, '_device_fn': None, '_tf_config': gpu_options {\n",
      "  per_process_gpu_memory_fraction: 1.0\n",
      "}\n",
      ", '_tf_random_seed': None, '_save_summary_steps': 100, '_save_checkpoints_secs': 600, '_log_step_count_steps': 100, '_protocol': None, '_session_config': None, '_save_checkpoints_steps': None, '_keep_checkpoint_max': 5, '_keep_checkpoint_every_n_hours': 10000, '_model_dir': '/tmp/tmp8_qw4tqe', '_session_creation_timeout_secs': 7200}\n"
     ]
    }
   ],
   "source": [
    "#import tempfile\n",
    "#model_dir = tempfile.mkdtemp()\n",
    "\n",
    "m = tf.contrib.learn.DNNLinearCombinedClassifier(\n",
    "    linear_feature_columns=wide_columns,\n",
    "    dnn_feature_columns=deep_columns,\n",
    "    n_classes=10,\n",
    "    dnn_hidden_units=[100, 50])"
   ]
  },
  {
   "cell_type": "markdown",
   "metadata": {
    "id": "WYecsXdJHLGR"
   },
   "source": [
    "#Training and Evaluating the model\n"
   ]
  },
  {
   "cell_type": "code",
   "execution_count": 19,
   "metadata": {
    "colab": {
     "base_uri": "https://localhost:8080/",
     "height": 172
    },
    "executionInfo": {
     "elapsed": 28,
     "status": "error",
     "timestamp": 1632291188446,
     "user": {
      "displayName": "‍김보아(학부학생/언더우드국제대학 창의기술경영)",
      "photoUrl": "https://lh3.googleusercontent.com/a/default-user=s64",
      "userId": "04274565896456384819"
     },
     "user_tz": -540
    },
    "id": "ULIm_TNvxao0",
    "outputId": "a11798b4-0d75-46d1-f4f3-a9488dc64174"
   },
   "outputs": [
    {
     "ename": "NameError",
     "evalue": "ignored",
     "output_type": "error",
     "traceback": [
      "\u001b[0;31m---------------------------------------------------------------------------\u001b[0m",
      "\u001b[0;31mNameError\u001b[0m                                 Traceback (most recent call last)",
      "\u001b[0;32m<ipython-input-19-cadd5a4a12f9>\u001b[0m in \u001b[0;36m<module>\u001b[0;34m()\u001b[0m\n\u001b[0;32m----> 1\u001b[0;31m \u001b[0mcheck\u001b[0m\u001b[0;34m.\u001b[0m\u001b[0mcolumns\u001b[0m\u001b[0;34m\u001b[0m\u001b[0;34m\u001b[0m\u001b[0m\n\u001b[0m",
      "\u001b[0;31mNameError\u001b[0m: name 'check' is not defined"
     ]
    }
   ],
   "source": [
    "check.columns"
   ]
  },
  {
   "cell_type": "code",
   "execution_count": 31,
   "metadata": {
    "executionInfo": {
     "elapsed": 270,
     "status": "ok",
     "timestamp": 1632292262424,
     "user": {
      "displayName": "‍김보아(학부학생/언더우드국제대학 창의기술경영)",
      "photoUrl": "https://lh3.googleusercontent.com/a/default-user=s64",
      "userId": "04274565896456384819"
     },
     "user_tz": -540
    },
    "id": "2fVIxoRrHJm6"
   },
   "outputs": [],
   "source": [
    "#import pandas as pd\n",
    "#import urllib\n",
    "\n",
    "# Define the column names for the data sets.\n",
    "COLUMNS = ['user_id','anime_id','rating','watching_status','watch_rate','Genres','English name','Episodes','Level','Members',\n",
    "           'Watching','Completed','On-Hold','Dropped','Plan to Watch', 'Aired','Source','Studios','avg_rating']\n",
    "\n",
    "LABEL_COLUMN = 'rating'\n",
    "CATEGORICAL_COLUMNS = ['watching_status',  'Level','Genres','Aired','Source','Studios' ]\n",
    "CONTINUOUS_COLUMNS = ['Episodes','Members','Watching','Completed',\n",
    "             'On-Hold','Dropped','Plan to Watch','avg_rating','watch_rate']\n",
    "\n",
    "# Download the training and test data to temporary files.\n",
    "# Alternatively, you can download them yourself and change train_file and\n",
    "# test_file to your own paths.\n",
    "#train_file = tempfile.NamedTemporaryFile()\n",
    "#test_file = tempfile.NamedTemporaryFile()\n",
    "#urllib.urlretrieve(\"https://archive.ics.uci.edu/ml/machine-learning-databases/adult/adult.data\", train_file.name)\n",
    "#urllib.urlretrieve(\"https://archive.ics.uci.edu/ml/machine-learning-databases/adult/adult.test\", test_file.name)\n",
    "\n",
    "# Divide the training and test data sets\n",
    "df_train = merged[COLUMNS].iloc[:44712]\n",
    "df_test = merged[COLUMNS].iloc[44712:]\n",
    "\n",
    "\n",
    "def input_fn(df):\n",
    "  # Creates a dictionary mapping from each continuous feature column name (k) to the values of that column stored in a constant Tensor.\n",
    "  continuous_cols = {k: tf.constant(df[k].values) for k in CONTINUOUS_COLUMNS}\n",
    "  # Creates a dictionary mapping from each categorical feature column name (k) to the values of that column stored in a tf.SparseTensor.\n",
    "  categorical_cols = {k: tf.SparseTensor(indices=[[i, 0] for i in range(df[k].size)], values=df[k].values, dense_shape=[df[k].size, 1]) for k in CATEGORICAL_COLUMNS}\n",
    "                      \n",
    "  # Merges the two dictionaries into one.\n",
    "  feature_cols = dict(continuous_cols.items() | categorical_cols.items())\n",
    "  # Converts the label column into a constant Tensor.\n",
    "  label = tf.constant(df[LABEL_COLUMN].values)\n",
    "  # Returns the feature columns and the label.\n",
    "  return feature_cols, label\n",
    "\n",
    "def train_input_fn():\n",
    "  return input_fn(df_train)\n",
    "\n",
    "def eval_input_fn():\n",
    "  return input_fn(df_test)"
   ]
  },
  {
   "cell_type": "code",
   "execution_count": 21,
   "metadata": {
    "colab": {
     "base_uri": "https://localhost:8080/"
    },
    "executionInfo": {
     "elapsed": 45539,
     "status": "ok",
     "timestamp": 1632291263173,
     "user": {
      "displayName": "‍김보아(학부학생/언더우드국제대학 창의기술경영)",
      "photoUrl": "https://lh3.googleusercontent.com/a/default-user=s64",
      "userId": "04274565896456384819"
     },
     "user_tz": -540
    },
    "id": "X9sm5apDHJ_E",
    "outputId": "d35a4e90-aa2e-4e5e-992c-85e975d32e4d"
   },
   "outputs": [
    {
     "name": "stdout",
     "output_type": "stream",
     "text": [
      "WARNING:tensorflow:From /tensorflow-1.15.2/python3.7/tensorflow_core/python/training/training_util.py:236: Variable.initialized_value (from tensorflow.python.ops.variables) is deprecated and will be removed in a future version.\n",
      "Instructions for updating:\n",
      "Use Variable.read_value. Variables in 2.X are initialized automatically both in eager and graph (inside tf.defun) contexts.\n",
      "WARNING:tensorflow:From /tensorflow-1.15.2/python3.7/tensorflow_core/contrib/layers/python/layers/embedding_ops.py:170: where (from tensorflow.python.ops.array_ops) is deprecated and will be removed in a future version.\n",
      "Instructions for updating:\n",
      "Use tf.where in 2.0, which has the same broadcast rule as np.where\n",
      "WARNING:tensorflow:Rank of input Tensor (1) should be the same as output_rank (2) for column. Will attempt to expand dims. It is highly recommended that you resize your input, as this behavior may change.\n",
      "WARNING:tensorflow:Rank of input Tensor (1) should be the same as output_rank (2) for column. Will attempt to expand dims. It is highly recommended that you resize your input, as this behavior may change.\n",
      "WARNING:tensorflow:From /tensorflow-1.15.2/python3.7/tensorflow_core/contrib/layers/python/layers/layers.py:1866: Layer.apply (from tensorflow.python.keras.engine.base_layer) is deprecated and will be removed in a future version.\n",
      "Instructions for updating:\n",
      "Please use `layer.__call__` method instead.\n",
      "WARNING:tensorflow:From /tensorflow-1.15.2/python3.7/tensorflow_core/contrib/layers/python/layers/feature_column.py:2407: calling sparse_feature_cross (from tensorflow.contrib.layers.python.ops.sparse_feature_cross_op) with hash_key=None is deprecated and will be removed after 2016-11-20.\n",
      "Instructions for updating:\n",
      "The default behavior of sparse_feature_cross is changing, the default\n",
      "value for hash_key will change to SPARSE_FEATURE_CROSS_DEFAULT_HASH_KEY.\n",
      "From that point on sparse_feature_cross will always use FingerprintCat64\n",
      "to concatenate the feature fingerprints. And the underlying\n",
      "_sparse_feature_cross_op.sparse_feature_cross operation will be marked\n",
      "as deprecated.\n",
      "WARNING:tensorflow:From /tensorflow-1.15.2/python3.7/tensorflow_core/python/training/adagrad.py:76: calling Constant.__init__ (from tensorflow.python.ops.init_ops) with dtype is deprecated and will be removed in a future version.\n",
      "Instructions for updating:\n",
      "Call initializer instance with the dtype argument instead of passing it to the constructor\n",
      "WARNING:tensorflow:From /tensorflow-1.15.2/python3.7/tensorflow_core/contrib/learn/python/learn/estimators/head.py:678: ModelFnOps.__new__ (from tensorflow.contrib.learn.python.learn.estimators.model_fn) is deprecated and will be removed in a future version.\n",
      "Instructions for updating:\n",
      "When switching to tf.estimator.Estimator, use tf.estimator.EstimatorSpec. You can use the `estimator_spec` method to create an equivalent one.\n",
      "INFO:tensorflow:Create CheckpointSaverHook.\n",
      "INFO:tensorflow:Graph was finalized.\n",
      "INFO:tensorflow:Running local_init_op.\n",
      "INFO:tensorflow:Done running local_init_op.\n",
      "INFO:tensorflow:Saving checkpoints for 0 into /tmp/tmpjk5e1256/model.ckpt.\n",
      "INFO:tensorflow:loss = 3.0469525, step = 2\n",
      "INFO:tensorflow:global_step/sec: 7.0722\n",
      "INFO:tensorflow:loss = 1.8389508, step = 202 (25.766 sec)\n",
      "INFO:tensorflow:Saving checkpoints for 202 into /tmp/tmpjk5e1256/model.ckpt.\n",
      "INFO:tensorflow:Loss for final step: 1.8389508.\n",
      "WARNING:tensorflow:Rank of input Tensor (1) should be the same as output_rank (2) for column. Will attempt to expand dims. It is highly recommended that you resize your input, as this behavior may change.\n",
      "WARNING:tensorflow:Rank of input Tensor (1) should be the same as output_rank (2) for column. Will attempt to expand dims. It is highly recommended that you resize your input, as this behavior may change.\n",
      "INFO:tensorflow:Starting evaluation at 2021-09-22T06:14:19Z\n",
      "INFO:tensorflow:Graph was finalized.\n",
      "INFO:tensorflow:Restoring parameters from /tmp/tmpjk5e1256/model.ckpt-202\n",
      "INFO:tensorflow:Running local_init_op.\n",
      "INFO:tensorflow:Done running local_init_op.\n",
      "INFO:tensorflow:Evaluation [1/1]\n",
      "INFO:tensorflow:Finished evaluation at 2021-09-22-06:14:21\n",
      "INFO:tensorflow:Saving dict for global step 202: accuracy = 0.26791304, global_step = 202, loss = 1.8384209\n",
      "accuracy : 0.2679130434989929\n",
      "global_step : 202\n",
      "loss : 1.8384208679199219\n"
     ]
    }
   ],
   "source": [
    "m.fit(input_fn=train_input_fn, steps=200)\n",
    "\n",
    "results = m.evaluate(input_fn=eval_input_fn, steps=1)\n",
    "\n",
    "for key in sorted(results):\n",
    "  print('{} : {}'.format(key, results[key]))"
   ]
  },
  {
   "cell_type": "code",
   "execution_count": 22,
   "metadata": {
    "executionInfo": {
     "elapsed": 9,
     "status": "ok",
     "timestamp": 1632291263173,
     "user": {
      "displayName": "‍김보아(학부학생/언더우드국제대학 창의기술경영)",
      "photoUrl": "https://lh3.googleusercontent.com/a/default-user=s64",
      "userId": "04274565896456384819"
     },
     "user_tz": -540
    },
    "id": "SqatdNp9uhWv"
   },
   "outputs": [],
   "source": [
    "def input_fn_predict(df):\n",
    "  return input_fn(df)"
   ]
  },
  {
   "cell_type": "code",
   "execution_count": 23,
   "metadata": {
    "colab": {
     "base_uri": "https://localhost:8080/"
    },
    "executionInfo": {
     "elapsed": 27288,
     "status": "ok",
     "timestamp": 1632291290454,
     "user": {
      "displayName": "‍김보아(학부학생/언더우드국제대학 창의기술경영)",
      "photoUrl": "https://lh3.googleusercontent.com/a/default-user=s64",
      "userId": "04274565896456384819"
     },
     "user_tz": -540
    },
    "id": "oIHHlrKezQvB",
    "outputId": "ad491f0d-3025-4aa6-a2d6-e6e5566daba0"
   },
   "outputs": [
    {
     "name": "stdout",
     "output_type": "stream",
     "text": [
      "WARNING:tensorflow:Rank of input Tensor (1) should be the same as output_rank (2) for column. Will attempt to expand dims. It is highly recommended that you resize your input, as this behavior may change.\n",
      "WARNING:tensorflow:Rank of input Tensor (1) should be the same as output_rank (2) for column. Will attempt to expand dims. It is highly recommended that you resize your input, as this behavior may change.\n",
      "INFO:tensorflow:Create CheckpointSaverHook.\n",
      "INFO:tensorflow:Graph was finalized.\n",
      "INFO:tensorflow:Restoring parameters from /tmp/tmpjk5e1256/model.ckpt-202\n",
      "WARNING:tensorflow:From /tensorflow-1.15.2/python3.7/tensorflow_core/python/training/saver.py:1069: get_checkpoint_mtimes (from tensorflow.python.training.checkpoint_management) is deprecated and will be removed in a future version.\n",
      "Instructions for updating:\n",
      "Use standard file utilities to get mtimes.\n",
      "INFO:tensorflow:Running local_init_op.\n",
      "INFO:tensorflow:Done running local_init_op.\n",
      "INFO:tensorflow:Saving checkpoints for 202 into /tmp/tmpjk5e1256/model.ckpt.\n",
      "INFO:tensorflow:loss = 1.8388011, step = 204\n",
      "INFO:tensorflow:Saving checkpoints for 304 into /tmp/tmpjk5e1256/model.ckpt.\n",
      "INFO:tensorflow:Loss for final step: 1.8321763.\n",
      "WARNING:tensorflow:Rank of input Tensor (1) should be the same as output_rank (2) for column. Will attempt to expand dims. It is highly recommended that you resize your input, as this behavior may change.\n",
      "WARNING:tensorflow:Rank of input Tensor (1) should be the same as output_rank (2) for column. Will attempt to expand dims. It is highly recommended that you resize your input, as this behavior may change.\n",
      "INFO:tensorflow:Starting evaluation at 2021-09-22T06:14:48Z\n",
      "INFO:tensorflow:Graph was finalized.\n",
      "INFO:tensorflow:Restoring parameters from /tmp/tmpjk5e1256/model.ckpt-304\n",
      "INFO:tensorflow:Running local_init_op.\n",
      "INFO:tensorflow:Done running local_init_op.\n",
      "INFO:tensorflow:Evaluation [1/10]\n",
      "INFO:tensorflow:Evaluation [2/10]\n",
      "INFO:tensorflow:Evaluation [3/10]\n",
      "INFO:tensorflow:Evaluation [4/10]\n",
      "INFO:tensorflow:Evaluation [5/10]\n",
      "INFO:tensorflow:Evaluation [6/10]\n",
      "INFO:tensorflow:Evaluation [7/10]\n",
      "INFO:tensorflow:Evaluation [8/10]\n",
      "INFO:tensorflow:Evaluation [9/10]\n",
      "INFO:tensorflow:Evaluation [10/10]\n",
      "INFO:tensorflow:Finished evaluation at 2021-09-22-06:14:49\n",
      "INFO:tensorflow:Saving dict for global step 304: accuracy = 0.27005994, global_step = 304, loss = 1.8326422\n",
      "WARNING:tensorflow:From /tensorflow-1.15.2/python3.7/tensorflow_core/python/util/deprecation.py:574: calling DNNLinearCombinedClassifier.predict (from tensorflow.contrib.learn.python.learn.estimators.dnn_linear_combined) with outputs=None is deprecated and will be removed after 2017-03-01.\n",
      "Instructions for updating:\n",
      "Please switch to predict_classes, or set `outputs` argument.\n",
      "WARNING:tensorflow:Rank of input Tensor (1) should be the same as output_rank (2) for column. Will attempt to expand dims. It is highly recommended that you resize your input, as this behavior may change.\n",
      "WARNING:tensorflow:Rank of input Tensor (1) should be the same as output_rank (2) for column. Will attempt to expand dims. It is highly recommended that you resize your input, as this behavior may change.\n",
      "INFO:tensorflow:Graph was finalized.\n",
      "INFO:tensorflow:Restoring parameters from /tmp/tmpjk5e1256/model.ckpt-304\n",
      "INFO:tensorflow:Running local_init_op.\n",
      "INFO:tensorflow:Done running local_init_op.\n"
     ]
    }
   ],
   "source": [
    "def input_fn_predict():\n",
    "  return input_fn(df_test)\n",
    "  pass\n",
    "m.fit(input_fn=train_input_fn, steps=100)\n",
    "metrics = m.evaluate(input_fn=eval_input_fn, steps=10)\n",
    "predictions = m.predict(input_fn=input_fn_predict)"
   ]
  },
  {
   "cell_type": "code",
   "execution_count": 24,
   "metadata": {
    "colab": {
     "base_uri": "https://localhost:8080/"
    },
    "executionInfo": {
     "elapsed": 17,
     "status": "ok",
     "timestamp": 1632291290455,
     "user": {
      "displayName": "‍김보아(학부학생/언더우드국제대학 창의기술경영)",
      "photoUrl": "https://lh3.googleusercontent.com/a/default-user=s64",
      "userId": "04274565896456384819"
     },
     "user_tz": -540
    },
    "id": "H-Hn02jN0dYD",
    "outputId": "98e3536a-eb50-48cf-927f-124cca0f602f"
   },
   "outputs": [
    {
     "name": "stdout",
     "output_type": "stream",
     "text": [
      "<generator object _as_iterable at 0x7fa1ef8602d0>\n"
     ]
    }
   ],
   "source": [
    "print(predictions)"
   ]
  },
  {
   "cell_type": "code",
   "execution_count": null,
   "metadata": {
    "executionInfo": {
     "elapsed": 12,
     "status": "aborted",
     "timestamp": 1632291290855,
     "user": {
      "displayName": "‍김보아(학부학생/언더우드국제대학 창의기술경영)",
      "photoUrl": "https://lh3.googleusercontent.com/a/default-user=s64",
      "userId": "04274565896456384819"
     },
     "user_tz": -540
    },
    "id": "u1wKIF3IHKdH"
   },
   "outputs": [],
   "source": []
  },
  {
   "cell_type": "code",
   "execution_count": null,
   "metadata": {
    "executionInfo": {
     "elapsed": 13,
     "status": "aborted",
     "timestamp": 1632291290856,
     "user": {
      "displayName": "‍김보아(학부학생/언더우드국제대학 창의기술경영)",
      "photoUrl": "https://lh3.googleusercontent.com/a/default-user=s64",
      "userId": "04274565896456384819"
     },
     "user_tz": -540
    },
    "id": "M3_MfjjpHKgO"
   },
   "outputs": [],
   "source": []
  },
  {
   "cell_type": "code",
   "execution_count": null,
   "metadata": {
    "executionInfo": {
     "elapsed": 12,
     "status": "aborted",
     "timestamp": 1632291290856,
     "user": {
      "displayName": "‍김보아(학부학생/언더우드국제대학 창의기술경영)",
      "photoUrl": "https://lh3.googleusercontent.com/a/default-user=s64",
      "userId": "04274565896456384819"
     },
     "user_tz": -540
    },
    "id": "ect_nxkpHKi9"
   },
   "outputs": [],
   "source": []
  },
  {
   "cell_type": "code",
   "execution_count": null,
   "metadata": {
    "executionInfo": {
     "elapsed": 13,
     "status": "aborted",
     "timestamp": 1632291290857,
     "user": {
      "displayName": "‍김보아(학부학생/언더우드국제대학 창의기술경영)",
      "photoUrl": "https://lh3.googleusercontent.com/a/default-user=s64",
      "userId": "04274565896456384819"
     },
     "user_tz": -540
    },
    "id": "uoZKlaa_HKl0"
   },
   "outputs": [],
   "source": []
  }
 ],
 "metadata": {
  "colab": {
   "collapsed_sections": [],
   "name": "Wide and Deep 최종본 API.ipynb",
   "provenance": []
  },
  "kernelspec": {
   "display_name": "Python 3",
   "language": "python",
   "name": "python3"
  },
  "language_info": {
   "codemirror_mode": {
    "name": "ipython",
    "version": 3
   },
   "file_extension": ".py",
   "mimetype": "text/x-python",
   "name": "python",
   "nbconvert_exporter": "python",
   "pygments_lexer": "ipython3",
   "version": "3.8.8"
  }
 },
 "nbformat": 4,
 "nbformat_minor": 1
}
