{
 "cells": [
  {
   "cell_type": "code",
   "execution_count": 1,
   "metadata": {
    "executionInfo": {
     "elapsed": 1592,
     "status": "ok",
     "timestamp": 1632297657772,
     "user": {
      "displayName": "‍김보아(학부학생/언더우드국제대학 창의기술경영)",
      "photoUrl": "https://lh3.googleusercontent.com/a/default-user=s64",
      "userId": "04274565896456384819"
     },
     "user_tz": -540
    },
    "id": "5UJD5hil98Oc"
   },
   "outputs": [],
   "source": [
    "import pandas as pd\n",
    "import numpy as np\n",
    "import matplotlib.pyplot as plt\n",
    "import seaborn as sns\n",
    "from ast import literal_eval\n",
    "from sklearn.feature_extraction.text import TfidfVectorizer\n",
    "from sklearn.feature_extraction.text import CountVectorizer\n",
    "from sklearn.metrics.pairwise import cosine_similarity"
   ]
  },
  {
   "cell_type": "code",
   "execution_count": 2,
   "metadata": {
    "colab": {
     "base_uri": "https://localhost:8080/"
    },
    "executionInfo": {
     "elapsed": 21656,
     "status": "ok",
     "timestamp": 1632297679427,
     "user": {
      "displayName": "‍김보아(학부학생/언더우드국제대학 창의기술경영)",
      "photoUrl": "https://lh3.googleusercontent.com/a/default-user=s64",
      "userId": "04274565896456384819"
     },
     "user_tz": -540
    },
    "id": "qk9y6WXHfAcF",
    "outputId": "2617159c-d206-4553-e836-989db295ed1b"
   },
   "outputs": [
    {
     "name": "stdout",
     "output_type": "stream",
     "text": [
      "Mounted at /content/drive\n"
     ]
    }
   ],
   "source": [
    "from google.colab import drive\n",
    "drive.mount('/content/drive')"
   ]
  },
  {
   "cell_type": "markdown",
   "metadata": {
    "id": "uBnldsuIQzxb"
   },
   "source": [
    "# ---Content Based Filterting Process\n",
    "\n",
    "##### * 컨텐츠에 대한 feature를 vectorize\n",
    "##### * feature들 간의 cosine similarity를 사용하여 유사도 행렬 구한다\n",
    "##### * 부가적으로 컨텐츠별 평점수와 평점을 사용하여 가중평점 계산\n",
    "###### ( 이유: 적은 평점 수로 인한 평균평점 상향되는 현상 고려)\n",
    "##### * 컨텐츠의 유사도와 가중평점이 높은 순으로 추천"
   ]
  },
  {
   "cell_type": "code",
   "execution_count": 3,
   "metadata": {
    "executionInfo": {
     "elapsed": 460,
     "status": "ok",
     "timestamp": 1632297679884,
     "user": {
      "displayName": "‍김보아(학부학생/언더우드국제대학 창의기술경영)",
      "photoUrl": "https://lh3.googleusercontent.com/a/default-user=s64",
      "userId": "04274565896456384819"
     },
     "user_tz": -540
    },
    "id": "wsOcjwvKfJ2V"
   },
   "outputs": [],
   "source": [
    "path = '/content/drive/Shareddrives/DSL_2021_2_추천시스템/animedataset/'"
   ]
  },
  {
   "cell_type": "code",
   "execution_count": 4,
   "metadata": {
    "colab": {
     "base_uri": "https://localhost:8080/"
    },
    "executionInfo": {
     "elapsed": 2526,
     "status": "ok",
     "timestamp": 1632297682406,
     "user": {
      "displayName": "‍김보아(학부학생/언더우드국제대학 창의기술경영)",
      "photoUrl": "https://lh3.googleusercontent.com/a/default-user=s64",
      "userId": "04274565896456384819"
     },
     "user_tz": -540
    },
    "id": "_4M5uenA-Edj",
    "outputId": "8bf422df-013c-421a-93d1-6aecfc36eeba"
   },
   "outputs": [
    {
     "name": "stderr",
     "output_type": "stream",
     "text": [
      "/usr/local/lib/python3.7/dist-packages/IPython/core/interactiveshell.py:2718: DtypeWarning: Columns (6,30,31,35,36,37,38) have mixed types.Specify dtype option on import or set low_memory=False.\n",
      "  interactivity=interactivity, compiler=compiler, result=result)\n"
     ]
    }
   ],
   "source": [
    "anime = pd.read_csv(path + 'sample_top_100000.csv')"
   ]
  },
  {
   "cell_type": "code",
   "execution_count": 5,
   "metadata": {
    "executionInfo": {
     "elapsed": 16,
     "status": "ok",
     "timestamp": 1632297682407,
     "user": {
      "displayName": "‍김보아(학부학생/언더우드국제대학 창의기술경영)",
      "photoUrl": "https://lh3.googleusercontent.com/a/default-user=s64",
      "userId": "04274565896456384819"
     },
     "user_tz": -540
    },
    "id": "CjkUupL3Qzxr"
   },
   "outputs": [],
   "source": [
    "anime = anime[:10000]"
   ]
  },
  {
   "cell_type": "markdown",
   "metadata": {
    "id": "Y38Qe1Q40jIn"
   },
   "source": [
    "- computing complexity too high for cosine similarity "
   ]
  },
  {
   "cell_type": "code",
   "execution_count": 6,
   "metadata": {
    "colab": {
     "base_uri": "https://localhost:8080/"
    },
    "executionInfo": {
     "elapsed": 15,
     "status": "ok",
     "timestamp": 1632297682407,
     "user": {
      "displayName": "‍김보아(학부학생/언더우드국제대학 창의기술경영)",
      "photoUrl": "https://lh3.googleusercontent.com/a/default-user=s64",
      "userId": "04274565896456384819"
     },
     "user_tz": -540
    },
    "id": "aiFIPhnc-OA2",
    "outputId": "832ac7b8-33b9-42ff-a7ed-4b29c5e4bd3c"
   },
   "outputs": [
    {
     "data": {
      "text/plain": [
       "Index(['user_id', 'anime_id', 'rating', 'watching_status', 'watched_episodes',\n",
       "       'Name', 'Score', 'Genres', 'English name', 'Japanese name', 'Type',\n",
       "       'Episodes', 'Aired', 'Premiered', 'Producers', 'Licensors', 'Studios',\n",
       "       'Source', 'Duration', 'Rating', 'Ranked', 'Popularity', 'Members',\n",
       "       'Favorites', 'Watching', 'Completed', 'On-Hold', 'Dropped',\n",
       "       'Plan to Watch', 'Score-10', 'Score-9', 'Score-8', 'Score-7', 'Score-6',\n",
       "       'Score-5', 'Score-4', 'Score-3', 'Score-2', 'Score-1'],\n",
       "      dtype='object')"
      ]
     },
     "execution_count": 6,
     "metadata": {},
     "output_type": "execute_result"
    }
   ],
   "source": [
    "anime.columns"
   ]
  },
  {
   "cell_type": "code",
   "execution_count": 7,
   "metadata": {
    "executionInfo": {
     "elapsed": 14,
     "status": "ok",
     "timestamp": 1632297682408,
     "user": {
      "displayName": "‍김보아(학부학생/언더우드국제대학 창의기술경영)",
      "photoUrl": "https://lh3.googleusercontent.com/a/default-user=s64",
      "userId": "04274565896456384819"
     },
     "user_tz": -540
    },
    "id": "MWpHR9pb-O1L"
   },
   "outputs": [],
   "source": [
    "anime = anime[['anime_id','Score','Name','Genres','Score-10', 'Score-9', 'Score-8', 'Score-7', 'Score-6',\n",
    "       'Score-5', 'Score-4', 'Score-3', 'Score-2', 'Score-1']]"
   ]
  },
  {
   "cell_type": "code",
   "execution_count": 8,
   "metadata": {
    "executionInfo": {
     "elapsed": 13,
     "status": "ok",
     "timestamp": 1632297682408,
     "user": {
      "displayName": "‍김보아(학부학생/언더우드국제대학 창의기술경영)",
      "photoUrl": "https://lh3.googleusercontent.com/a/default-user=s64",
      "userId": "04274565896456384819"
     },
     "user_tz": -540
    },
    "id": "5cSKnT15AQYA"
   },
   "outputs": [],
   "source": [
    "#만화에 평점을 준 사람 총합\n",
    "anime['vote_count'] = anime.iloc[:,4:].sum(axis=1)\n",
    "\n",
    "anime.drop(['Score-10', 'Score-9', 'Score-8', 'Score-7', 'Score-6',\n",
    "       'Score-5', 'Score-4', 'Score-3', 'Score-2', 'Score-1'], axis=1, inplace=True)"
   ]
  },
  {
   "cell_type": "code",
   "execution_count": 9,
   "metadata": {
    "executionInfo": {
     "elapsed": 14,
     "status": "ok",
     "timestamp": 1632297682409,
     "user": {
      "displayName": "‍김보아(학부학생/언더우드국제대학 창의기술경영)",
      "photoUrl": "https://lh3.googleusercontent.com/a/default-user=s64",
      "userId": "04274565896456384819"
     },
     "user_tz": -540
    },
    "id": "BWh-ltqurgOK"
   },
   "outputs": [],
   "source": [
    "anime.Score.replace('Unknown',np.nan, inplace=True)\n",
    "anime = anime.dropna()"
   ]
  },
  {
   "cell_type": "code",
   "execution_count": 10,
   "metadata": {
    "executionInfo": {
     "elapsed": 14,
     "status": "ok",
     "timestamp": 1632297682410,
     "user": {
      "displayName": "‍김보아(학부학생/언더우드국제대학 창의기술경영)",
      "photoUrl": "https://lh3.googleusercontent.com/a/default-user=s64",
      "userId": "04274565896456384819"
     },
     "user_tz": -540
    },
    "id": "gNITZd39rlem"
   },
   "outputs": [],
   "source": [
    "anime.Score = anime.Score.astype(np.float64)"
   ]
  },
  {
   "cell_type": "code",
   "execution_count": 11,
   "metadata": {
    "executionInfo": {
     "elapsed": 14,
     "status": "ok",
     "timestamp": 1632297682410,
     "user": {
      "displayName": "‍김보아(학부학생/언더우드국제대학 창의기술경영)",
      "photoUrl": "https://lh3.googleusercontent.com/a/default-user=s64",
      "userId": "04274565896456384819"
     },
     "user_tz": -540
    },
    "id": "bHgLfVVtQzx4",
    "scrolled": true
   },
   "outputs": [],
   "source": [
    "anime = anime.reset_index(drop=True)"
   ]
  },
  {
   "cell_type": "code",
   "execution_count": 12,
   "metadata": {
    "executionInfo": {
     "elapsed": 14,
     "status": "ok",
     "timestamp": 1632297682411,
     "user": {
      "displayName": "‍김보아(학부학생/언더우드국제대학 창의기술경영)",
      "photoUrl": "https://lh3.googleusercontent.com/a/default-user=s64",
      "userId": "04274565896456384819"
     },
     "user_tz": -540
    },
    "id": "4GPRf2JGtPxH"
   },
   "outputs": [],
   "source": [
    "anime['Genres'] = [x.replace(',','') for x in anime.Genres]"
   ]
  },
  {
   "cell_type": "markdown",
   "metadata": {
    "id": "tBaTWJY8BFlA"
   },
   "source": [
    "# Case1 :  가중평점 고려 X"
   ]
  },
  {
   "cell_type": "code",
   "execution_count": 13,
   "metadata": {
    "executionInfo": {
     "elapsed": 14,
     "status": "ok",
     "timestamp": 1632297682411,
     "user": {
      "displayName": "‍김보아(학부학생/언더우드국제대학 창의기술경영)",
      "photoUrl": "https://lh3.googleusercontent.com/a/default-user=s64",
      "userId": "04274565896456384819"
     },
     "user_tz": -540
    },
    "id": "vvp71nP8AkYu"
   },
   "outputs": [],
   "source": [
    "count = TfidfVectorizer(ngram_range=(1,3))"
   ]
  },
  {
   "cell_type": "code",
   "execution_count": 14,
   "metadata": {
    "executionInfo": {
     "elapsed": 14,
     "status": "ok",
     "timestamp": 1632297682411,
     "user": {
      "displayName": "‍김보아(학부학생/언더우드국제대학 창의기술경영)",
      "photoUrl": "https://lh3.googleusercontent.com/a/default-user=s64",
      "userId": "04274565896456384819"
     },
     "user_tz": -540
    },
    "id": "GJugnbIlBYb2"
   },
   "outputs": [],
   "source": [
    "count_vector_genres = count.fit_transform(anime['Genres'])"
   ]
  },
  {
   "cell_type": "code",
   "execution_count": 16,
   "metadata": {
    "colab": {
     "base_uri": "https://localhost:8080/"
    },
    "executionInfo": {
     "elapsed": 12,
     "status": "ok",
     "timestamp": 1632297682412,
     "user": {
      "displayName": "‍김보아(학부학생/언더우드국제대학 창의기술경영)",
      "photoUrl": "https://lh3.googleusercontent.com/a/default-user=s64",
      "userId": "04274565896456384819"
     },
     "user_tz": -540
    },
    "id": "wLC-bLfwBi4i",
    "outputId": "d8f94aa8-cc3a-47d1-9c71-e27779049a59"
   },
   "outputs": [
    {
     "data": {
      "text/plain": [
       "(9992, 2590)"
      ]
     },
     "execution_count": 16,
     "metadata": {},
     "output_type": "execute_result"
    }
   ],
   "source": [
    "count_vector_genres.shape"
   ]
  },
  {
   "cell_type": "code",
   "execution_count": 17,
   "metadata": {
    "colab": {
     "base_uri": "https://localhost:8080/"
    },
    "executionInfo": {
     "elapsed": 2660,
     "status": "ok",
     "timestamp": 1632297685062,
     "user": {
      "displayName": "‍김보아(학부학생/언더우드국제대학 창의기술경영)",
      "photoUrl": "https://lh3.googleusercontent.com/a/default-user=s64",
      "userId": "04274565896456384819"
     },
     "user_tz": -540
    },
    "id": "Ii2SKhuoQzyG",
    "outputId": "dd651023-773c-4f6a-b6a4-81ad69d51454"
   },
   "outputs": [
    {
     "name": "stdout",
     "output_type": "stream",
     "text": [
      "[[1.         0.01742386 0.06031213 ... 0.00708682 0.         0.00843677]\n",
      " [0.01742386 1.         0.04900962 ... 0.0539762  0.05776216 0.11029674]\n",
      " [0.06031213 0.04900962 1.         ... 0.03192938 0.01988292 0.0080372 ]\n",
      " ...\n",
      " [0.00708682 0.0539762  0.03192938 ... 1.         0.69796914 0.0400686 ]\n",
      " [0.         0.05776216 0.01988292 ... 0.69796914 1.         0.08250722]\n",
      " [0.00843677 0.11029674 0.0080372  ... 0.0400686  0.08250722 1.        ]]\n"
     ]
    }
   ],
   "source": [
    "genre_sim = cosine_similarity(count_vector_genres,count_vector_genres)\n",
    "print(genre_sim)"
   ]
  },
  {
   "cell_type": "code",
   "execution_count": 18,
   "metadata": {
    "executionInfo": {
     "elapsed": 6489,
     "status": "ok",
     "timestamp": 1632297691541,
     "user": {
      "displayName": "‍김보아(학부학생/언더우드국제대학 창의기술경영)",
      "photoUrl": "https://lh3.googleusercontent.com/a/default-user=s64",
      "userId": "04274565896456384819"
     },
     "user_tz": -540
    },
    "id": "f1R_xlAaQzyI"
   },
   "outputs": [],
   "source": [
    "genre_sim_idx = genre_sim.argsort()[::-1]"
   ]
  },
  {
   "cell_type": "code",
   "execution_count": 19,
   "metadata": {
    "colab": {
     "base_uri": "https://localhost:8080/"
    },
    "executionInfo": {
     "elapsed": 11,
     "status": "ok",
     "timestamp": 1632297691542,
     "user": {
      "displayName": "‍김보아(학부학생/언더우드국제대학 창의기술경영)",
      "photoUrl": "https://lh3.googleusercontent.com/a/default-user=s64",
      "userId": "04274565896456384819"
     },
     "user_tz": -540
    },
    "id": "ffD83a_JsB5O",
    "outputId": "cc9c6d4b-30e4-4ead-bb1b-a330172ca4ce"
   },
   "outputs": [
    {
     "data": {
      "text/plain": [
       "array([[4995, 2477, 2478, ..., 1279, 9963, 9991],\n",
       "       [   0, 4760, 4759, ..., 5400, 9989, 9990],\n",
       "       [4995, 4980, 1465, ..., 6369, 9990, 9989],\n",
       "       ...,\n",
       "       [4931, 5190, 5188, ..., 6375, 4053, 4413],\n",
       "       [4995, 5535, 5530, ..., 7427,  471, 6850],\n",
       "       [3371, 7779, 1533, ..., 6848, 4935,    0]])"
      ]
     },
     "execution_count": 19,
     "metadata": {},
     "output_type": "execute_result"
    }
   ],
   "source": [
    "genre_sim_idx"
   ]
  },
  {
   "cell_type": "code",
   "execution_count": 20,
   "metadata": {
    "executionInfo": {
     "elapsed": 552,
     "status": "ok",
     "timestamp": 1632297692088,
     "user": {
      "displayName": "‍김보아(학부학생/언더우드국제대학 창의기술경영)",
      "photoUrl": "https://lh3.googleusercontent.com/a/default-user=s64",
      "userId": "04274565896456384819"
     },
     "user_tz": -540
    },
    "id": "GJeMmKulQzyK"
   },
   "outputs": [],
   "source": [
    "def recommend_MANHWA(df, sorted_idx, title_name, top_n=10):\n",
    "\n",
    "    anime_title_idx = df[df['Name'] == title_name].index.values\n",
    "    sim_idx = genre_sim_idx[anime_title_idx, :top_n].reshape(-1,)\n",
    "    similar_anime = df.iloc[sim_idx].sort_values('Score',ascending=False)[:10]\n",
    "  \n",
    "\n",
    "    return similar_anime"
   ]
  },
  {
   "cell_type": "code",
   "execution_count": 21,
   "metadata": {
    "colab": {
     "base_uri": "https://localhost:8080/",
     "height": 359
    },
    "executionInfo": {
     "elapsed": 18,
     "status": "ok",
     "timestamp": 1632297692089,
     "user": {
      "displayName": "‍김보아(학부학생/언더우드국제대학 창의기술경영)",
      "photoUrl": "https://lh3.googleusercontent.com/a/default-user=s64",
      "userId": "04274565896456384819"
     },
     "user_tz": -540
    },
    "id": "xWkn5MX4QzyL",
    "outputId": "6efaa31b-b77b-415c-ecb1-042320a19bba"
   },
   "outputs": [
    {
     "data": {
      "text/html": [
       "<div>\n",
       "<style scoped>\n",
       "    .dataframe tbody tr th:only-of-type {\n",
       "        vertical-align: middle;\n",
       "    }\n",
       "\n",
       "    .dataframe tbody tr th {\n",
       "        vertical-align: top;\n",
       "    }\n",
       "\n",
       "    .dataframe thead th {\n",
       "        text-align: right;\n",
       "    }\n",
       "</style>\n",
       "<table border=\"1\" class=\"dataframe\">\n",
       "  <thead>\n",
       "    <tr style=\"text-align: right;\">\n",
       "      <th></th>\n",
       "      <th>anime_id</th>\n",
       "      <th>Score</th>\n",
       "      <th>Name</th>\n",
       "      <th>Genres</th>\n",
       "      <th>vote_count</th>\n",
       "    </tr>\n",
       "  </thead>\n",
       "  <tbody>\n",
       "    <tr>\n",
       "      <th>3917</th>\n",
       "      <td>13759</td>\n",
       "      <td>8.19</td>\n",
       "      <td>Sakura-sou no Pet na Kanojo</td>\n",
       "      <td>Slice of Life Comedy Drama Romance School</td>\n",
       "      <td>231135.0</td>\n",
       "    </tr>\n",
       "    <tr>\n",
       "      <th>7457</th>\n",
       "      <td>14813</td>\n",
       "      <td>8.07</td>\n",
       "      <td>Yahari Ore no Seishun Love Comedy wa Machigatt...</td>\n",
       "      <td>Slice of Life Comedy Drama Romance School</td>\n",
       "      <td>239027.0</td>\n",
       "    </tr>\n",
       "    <tr>\n",
       "      <th>3078</th>\n",
       "      <td>16049</td>\n",
       "      <td>8.06</td>\n",
       "      <td>Toaru Kagaku no Railgun S</td>\n",
       "      <td>Action Sci-Fi Super Power</td>\n",
       "      <td>63181.0</td>\n",
       "    </tr>\n",
       "    <tr>\n",
       "      <th>7453</th>\n",
       "      <td>35507</td>\n",
       "      <td>7.85</td>\n",
       "      <td>Youkoso Jitsuryoku Shijou Shugi no Kyoushitsu ...</td>\n",
       "      <td>Slice of Life Psychological Drama School</td>\n",
       "      <td>161627.0</td>\n",
       "    </tr>\n",
       "    <tr>\n",
       "      <th>6024</th>\n",
       "      <td>16904</td>\n",
       "      <td>7.70</td>\n",
       "      <td>K: Missing Kings</td>\n",
       "      <td>Action Super Power Supernatural</td>\n",
       "      <td>51026.0</td>\n",
       "    </tr>\n",
       "    <tr>\n",
       "      <th>3922</th>\n",
       "      <td>33988</td>\n",
       "      <td>7.62</td>\n",
       "      <td>Demi-chan wa Kataritai</td>\n",
       "      <td>Comedy Vampire Fantasy School Seinen</td>\n",
       "      <td>83608.0</td>\n",
       "    </tr>\n",
       "    <tr>\n",
       "      <th>6028</th>\n",
       "      <td>14467</td>\n",
       "      <td>7.51</td>\n",
       "      <td>K</td>\n",
       "      <td>Action Mystery Super Power Supernatural</td>\n",
       "      <td>167587.0</td>\n",
       "    </tr>\n",
       "    <tr>\n",
       "      <th>7454</th>\n",
       "      <td>24627</td>\n",
       "      <td>7.46</td>\n",
       "      <td>Yamada-kun to 7-nin no Majo: Mou Hitotsu no Su...</td>\n",
       "      <td>Comedy Romance School Shounen</td>\n",
       "      <td>22444.0</td>\n",
       "    </tr>\n",
       "    <tr>\n",
       "      <th>9991</th>\n",
       "      <td>19251</td>\n",
       "      <td>7.27</td>\n",
       "      <td>Uta no☆Prince-sama♪ Maji Love 2000%: Shining S...</td>\n",
       "      <td>Comedy Harem Music Romance School Shoujo</td>\n",
       "      <td>5891.0</td>\n",
       "    </tr>\n",
       "    <tr>\n",
       "      <th>3921</th>\n",
       "      <td>147</td>\n",
       "      <td>7.24</td>\n",
       "      <td>Kimi ga Nozomu Eien</td>\n",
       "      <td>Drama Romance Slice of Life</td>\n",
       "      <td>33555.0</td>\n",
       "    </tr>\n",
       "  </tbody>\n",
       "</table>\n",
       "</div>"
      ],
      "text/plain": [
       "      anime_id  Score  ...                                     Genres vote_count\n",
       "3917     13759   8.19  ...  Slice of Life Comedy Drama Romance School   231135.0\n",
       "7457     14813   8.07  ...  Slice of Life Comedy Drama Romance School   239027.0\n",
       "3078     16049   8.06  ...                  Action Sci-Fi Super Power    63181.0\n",
       "7453     35507   7.85  ...   Slice of Life Psychological Drama School   161627.0\n",
       "6024     16904   7.70  ...            Action Super Power Supernatural    51026.0\n",
       "3922     33988   7.62  ...       Comedy Vampire Fantasy School Seinen    83608.0\n",
       "6028     14467   7.51  ...    Action Mystery Super Power Supernatural   167587.0\n",
       "7454     24627   7.46  ...              Comedy Romance School Shounen    22444.0\n",
       "9991     19251   7.27  ...   Comedy Harem Music Romance School Shoujo     5891.0\n",
       "3921       147   7.24  ...                Drama Romance Slice of Life    33555.0\n",
       "\n",
       "[10 rows x 5 columns]"
      ]
     },
     "execution_count": 21,
     "metadata": {},
     "output_type": "execute_result"
    }
   ],
   "source": [
    "recommend_MANHWA(anime, genre_sim_idx, 'Keroro Gunsou')\n"
   ]
  },
  {
   "cell_type": "code",
   "execution_count": 22,
   "metadata": {
    "colab": {
     "base_uri": "https://localhost:8080/",
     "height": 111
    },
    "executionInfo": {
     "elapsed": 17,
     "status": "ok",
     "timestamp": 1632297692090,
     "user": {
      "displayName": "‍김보아(학부학생/언더우드국제대학 창의기술경영)",
      "photoUrl": "https://lh3.googleusercontent.com/a/default-user=s64",
      "userId": "04274565896456384819"
     },
     "user_tz": -540
    },
    "id": "Z0EQFOU-pr2T",
    "outputId": "2f7e5cf9-9e9a-4a9e-e24a-9b2862f83710"
   },
   "outputs": [
    {
     "data": {
      "text/html": [
       "<div>\n",
       "<style scoped>\n",
       "    .dataframe tbody tr th:only-of-type {\n",
       "        vertical-align: middle;\n",
       "    }\n",
       "\n",
       "    .dataframe tbody tr th {\n",
       "        vertical-align: top;\n",
       "    }\n",
       "\n",
       "    .dataframe thead th {\n",
       "        text-align: right;\n",
       "    }\n",
       "</style>\n",
       "<table border=\"1\" class=\"dataframe\">\n",
       "  <thead>\n",
       "    <tr style=\"text-align: right;\">\n",
       "      <th></th>\n",
       "      <th>anime_id</th>\n",
       "      <th>Score</th>\n",
       "      <th>Name</th>\n",
       "      <th>Genres</th>\n",
       "      <th>vote_count</th>\n",
       "    </tr>\n",
       "  </thead>\n",
       "  <tbody>\n",
       "    <tr>\n",
       "      <th>1549</th>\n",
       "      <td>516</td>\n",
       "      <td>7.7</td>\n",
       "      <td>Keroro Gunsou</td>\n",
       "      <td>Comedy Mecha Parody Sci-Fi Shounen</td>\n",
       "      <td>15008.0</td>\n",
       "    </tr>\n",
       "    <tr>\n",
       "      <th>5486</th>\n",
       "      <td>516</td>\n",
       "      <td>7.7</td>\n",
       "      <td>Keroro Gunsou</td>\n",
       "      <td>Comedy Mecha Parody Sci-Fi Shounen</td>\n",
       "      <td>15008.0</td>\n",
       "    </tr>\n",
       "  </tbody>\n",
       "</table>\n",
       "</div>"
      ],
      "text/plain": [
       "      anime_id  Score  ...                              Genres vote_count\n",
       "1549       516    7.7  ...  Comedy Mecha Parody Sci-Fi Shounen    15008.0\n",
       "5486       516    7.7  ...  Comedy Mecha Parody Sci-Fi Shounen    15008.0\n",
       "\n",
       "[2 rows x 5 columns]"
      ]
     },
     "execution_count": 22,
     "metadata": {},
     "output_type": "execute_result"
    }
   ],
   "source": [
    "anime[anime.Name=='Keroro Gunsou']"
   ]
  },
  {
   "cell_type": "markdown",
   "metadata": {
    "id": "EkX_7FGGQzyO"
   },
   "source": [
    "# Case2 : 가중평균 고려 O"
   ]
  },
  {
   "cell_type": "code",
   "execution_count": 23,
   "metadata": {
    "executionInfo": {
     "elapsed": 16,
     "status": "ok",
     "timestamp": 1632297692090,
     "user": {
      "displayName": "‍김보아(학부학생/언더우드국제대학 창의기술경영)",
      "photoUrl": "https://lh3.googleusercontent.com/a/default-user=s64",
      "userId": "04274565896456384819"
     },
     "user_tz": -540
    },
    "id": "Dl2uHKdfQzyX"
   },
   "outputs": [],
   "source": [
    "C = anime['Score'].mean()\n",
    "\n",
    "anime['vote_count'] = anime['vote_count'].astype(int)\n",
    "m = anime['vote_count'].quantile(0.9)\n",
    "\n"
   ]
  },
  {
   "cell_type": "code",
   "execution_count": 24,
   "metadata": {
    "executionInfo": {
     "elapsed": 17,
     "status": "ok",
     "timestamp": 1632297692091,
     "user": {
      "displayName": "‍김보아(학부학생/언더우드국제대학 창의기술경영)",
      "photoUrl": "https://lh3.googleusercontent.com/a/default-user=s64",
      "userId": "04274565896456384819"
     },
     "user_tz": -540
    },
    "id": "-f5YVhpwQzya"
   },
   "outputs": [],
   "source": [
    "def weighted_rating (x, m=m,C=C):\n",
    "    V = x['vote_count']\n",
    "    R = x['Score']\n",
    "    \n",
    "    return (V/(V+m) * R ) + (m/(m+V) * C)"
   ]
  },
  {
   "cell_type": "code",
   "execution_count": 25,
   "metadata": {
    "executionInfo": {
     "elapsed": 16,
     "status": "ok",
     "timestamp": 1632297692091,
     "user": {
      "displayName": "‍김보아(학부학생/언더우드국제대학 창의기술경영)",
      "photoUrl": "https://lh3.googleusercontent.com/a/default-user=s64",
      "userId": "04274565896456384819"
     },
     "user_tz": -540
    },
    "id": "C9iL1WjNvzTV"
   },
   "outputs": [],
   "source": [
    "WA_anime = anime.copy()\n",
    "WA_anime['Score'] = WA_anime.apply(weighted_rating, axis=1)"
   ]
  },
  {
   "cell_type": "code",
   "execution_count": 26,
   "metadata": {
    "colab": {
     "base_uri": "https://localhost:8080/",
     "height": 359
    },
    "executionInfo": {
     "elapsed": 17,
     "status": "ok",
     "timestamp": 1632297692092,
     "user": {
      "displayName": "‍김보아(학부학생/언더우드국제대학 창의기술경영)",
      "photoUrl": "https://lh3.googleusercontent.com/a/default-user=s64",
      "userId": "04274565896456384819"
     },
     "user_tz": -540
    },
    "id": "xjfcE8AgQzyb",
    "outputId": "db6d30fa-e99f-4667-b466-0bde37b318ff"
   },
   "outputs": [
    {
     "data": {
      "text/html": [
       "<div>\n",
       "<style scoped>\n",
       "    .dataframe tbody tr th:only-of-type {\n",
       "        vertical-align: middle;\n",
       "    }\n",
       "\n",
       "    .dataframe tbody tr th {\n",
       "        vertical-align: top;\n",
       "    }\n",
       "\n",
       "    .dataframe thead th {\n",
       "        text-align: right;\n",
       "    }\n",
       "</style>\n",
       "<table border=\"1\" class=\"dataframe\">\n",
       "  <thead>\n",
       "    <tr style=\"text-align: right;\">\n",
       "      <th></th>\n",
       "      <th>anime_id</th>\n",
       "      <th>Score</th>\n",
       "      <th>Name</th>\n",
       "      <th>Genres</th>\n",
       "      <th>vote_count</th>\n",
       "    </tr>\n",
       "  </thead>\n",
       "  <tbody>\n",
       "    <tr>\n",
       "      <th>3917</th>\n",
       "      <td>13759</td>\n",
       "      <td>8.19</td>\n",
       "      <td>Sakura-sou no Pet na Kanojo</td>\n",
       "      <td>Slice of Life Comedy Drama Romance School</td>\n",
       "      <td>231135</td>\n",
       "    </tr>\n",
       "    <tr>\n",
       "      <th>7457</th>\n",
       "      <td>14813</td>\n",
       "      <td>8.07</td>\n",
       "      <td>Yahari Ore no Seishun Love Comedy wa Machigatt...</td>\n",
       "      <td>Slice of Life Comedy Drama Romance School</td>\n",
       "      <td>239027</td>\n",
       "    </tr>\n",
       "    <tr>\n",
       "      <th>3078</th>\n",
       "      <td>16049</td>\n",
       "      <td>8.06</td>\n",
       "      <td>Toaru Kagaku no Railgun S</td>\n",
       "      <td>Action Sci-Fi Super Power</td>\n",
       "      <td>63181</td>\n",
       "    </tr>\n",
       "    <tr>\n",
       "      <th>7453</th>\n",
       "      <td>35507</td>\n",
       "      <td>7.85</td>\n",
       "      <td>Youkoso Jitsuryoku Shijou Shugi no Kyoushitsu ...</td>\n",
       "      <td>Slice of Life Psychological Drama School</td>\n",
       "      <td>161627</td>\n",
       "    </tr>\n",
       "    <tr>\n",
       "      <th>6024</th>\n",
       "      <td>16904</td>\n",
       "      <td>7.70</td>\n",
       "      <td>K: Missing Kings</td>\n",
       "      <td>Action Super Power Supernatural</td>\n",
       "      <td>51026</td>\n",
       "    </tr>\n",
       "    <tr>\n",
       "      <th>3922</th>\n",
       "      <td>33988</td>\n",
       "      <td>7.62</td>\n",
       "      <td>Demi-chan wa Kataritai</td>\n",
       "      <td>Comedy Vampire Fantasy School Seinen</td>\n",
       "      <td>83608</td>\n",
       "    </tr>\n",
       "    <tr>\n",
       "      <th>6028</th>\n",
       "      <td>14467</td>\n",
       "      <td>7.51</td>\n",
       "      <td>K</td>\n",
       "      <td>Action Mystery Super Power Supernatural</td>\n",
       "      <td>167587</td>\n",
       "    </tr>\n",
       "    <tr>\n",
       "      <th>7454</th>\n",
       "      <td>24627</td>\n",
       "      <td>7.46</td>\n",
       "      <td>Yamada-kun to 7-nin no Majo: Mou Hitotsu no Su...</td>\n",
       "      <td>Comedy Romance School Shounen</td>\n",
       "      <td>22444</td>\n",
       "    </tr>\n",
       "    <tr>\n",
       "      <th>9991</th>\n",
       "      <td>19251</td>\n",
       "      <td>7.27</td>\n",
       "      <td>Uta no☆Prince-sama♪ Maji Love 2000%: Shining S...</td>\n",
       "      <td>Comedy Harem Music Romance School Shoujo</td>\n",
       "      <td>5891</td>\n",
       "    </tr>\n",
       "    <tr>\n",
       "      <th>3921</th>\n",
       "      <td>147</td>\n",
       "      <td>7.24</td>\n",
       "      <td>Kimi ga Nozomu Eien</td>\n",
       "      <td>Drama Romance Slice of Life</td>\n",
       "      <td>33555</td>\n",
       "    </tr>\n",
       "  </tbody>\n",
       "</table>\n",
       "</div>"
      ],
      "text/plain": [
       "      anime_id  Score  ...                                     Genres vote_count\n",
       "3917     13759   8.19  ...  Slice of Life Comedy Drama Romance School     231135\n",
       "7457     14813   8.07  ...  Slice of Life Comedy Drama Romance School     239027\n",
       "3078     16049   8.06  ...                  Action Sci-Fi Super Power      63181\n",
       "7453     35507   7.85  ...   Slice of Life Psychological Drama School     161627\n",
       "6024     16904   7.70  ...            Action Super Power Supernatural      51026\n",
       "3922     33988   7.62  ...       Comedy Vampire Fantasy School Seinen      83608\n",
       "6028     14467   7.51  ...    Action Mystery Super Power Supernatural     167587\n",
       "7454     24627   7.46  ...              Comedy Romance School Shounen      22444\n",
       "9991     19251   7.27  ...   Comedy Harem Music Romance School Shoujo       5891\n",
       "3921       147   7.24  ...                Drama Romance Slice of Life      33555\n",
       "\n",
       "[10 rows x 5 columns]"
      ]
     },
     "execution_count": 26,
     "metadata": {},
     "output_type": "execute_result"
    }
   ],
   "source": [
    "recommend_MANHWA(anime, genre_sim_idx, 'Keroro Gunsou')"
   ]
  },
  {
   "cell_type": "code",
   "execution_count": 26,
   "metadata": {
    "executionInfo": {
     "elapsed": 16,
     "status": "ok",
     "timestamp": 1632297692092,
     "user": {
      "displayName": "‍김보아(학부학생/언더우드국제대학 창의기술경영)",
      "photoUrl": "https://lh3.googleusercontent.com/a/default-user=s64",
      "userId": "04274565896456384819"
     },
     "user_tz": -540
    },
    "id": "dzKT4HacQzyd"
   },
   "outputs": [],
   "source": []
  },
  {
   "cell_type": "code",
   "execution_count": 26,
   "metadata": {
    "executionInfo": {
     "elapsed": 17,
     "status": "ok",
     "timestamp": 1632297692093,
     "user": {
      "displayName": "‍김보아(학부학생/언더우드국제대학 창의기술경영)",
      "photoUrl": "https://lh3.googleusercontent.com/a/default-user=s64",
      "userId": "04274565896456384819"
     },
     "user_tz": -540
    },
    "id": "1kr4yba3rkhS"
   },
   "outputs": [],
   "source": []
  }
 ],
 "metadata": {
  "colab": {
   "collapsed_sections": [],
   "name": "최종_Anime_CONTENT_BASED.ipynb",
   "provenance": []
  },
  "kernelspec": {
   "display_name": "Python 3",
   "language": "python",
   "name": "python3"
  },
  "language_info": {
   "codemirror_mode": {
    "name": "ipython",
    "version": 3
   },
   "file_extension": ".py",
   "mimetype": "text/x-python",
   "name": "python",
   "nbconvert_exporter": "python",
   "pygments_lexer": "ipython3",
   "version": "3.8.8"
  }
 },
 "nbformat": 4,
 "nbformat_minor": 1
}
